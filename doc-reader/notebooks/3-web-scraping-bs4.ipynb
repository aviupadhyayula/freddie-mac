{
 "cells": [
  {
   "cell_type": "markdown",
   "id": "4d7adb46",
   "metadata": {},
   "source": [
    "# Web Scraping\n",
    "- This notebook contains code to scrap and save (to pickle files) zoning ordinates websites\n",
    "- Part 1: ecode360 scraper (tree spider)\n",
    "- Part 2: n/a"
   ]
  },
  {
   "cell_type": "code",
   "execution_count": 2,
   "id": "ba201f03",
   "metadata": {},
   "outputs": [],
   "source": [
    "import numpy as np\n",
    "import pandas as pd\n",
    "import re\n",
    "import requests\n",
    "from bs4 import BeautifulSoup\n",
    "from tqdm import tqdm\n",
    "import pickle"
   ]
  },
  {
   "cell_type": "markdown",
   "id": "c879bc38",
   "metadata": {},
   "source": [
    "# 1. Tree-based scraping"
   ]
  },
  {
   "cell_type": "code",
   "execution_count": 2,
   "id": "9a8a768c",
   "metadata": {},
   "outputs": [],
   "source": [
    "# load meta data (which urls do we need to scrap?)\n",
    "all_meta_data = pd.read_csv('../data/ordinates_meta_data.csv', sep = '*')\n",
    "all_meta_data_ecode_360 = all_meta_data.query('Site == \"General Code\"').reset_index(drop = True)"
   ]
  },
  {
   "cell_type": "code",
   "execution_count": 116,
   "id": "8dd2845e",
   "metadata": {},
   "outputs": [
    {
     "data": {
      "text/plain": [
       "(2703, 6)"
      ]
     },
     "execution_count": 116,
     "metadata": {},
     "output_type": "execute_result"
    }
   ],
   "source": [
    "all_meta_data_ecode_360.shape"
   ]
  },
  {
   "cell_type": "code",
   "execution_count": 94,
   "id": "6ec9b2a3",
   "metadata": {},
   "outputs": [
    {
     "data": {
      "text/html": [
       "<div>\n",
       "<style scoped>\n",
       "    .dataframe tbody tr th:only-of-type {\n",
       "        vertical-align: middle;\n",
       "    }\n",
       "\n",
       "    .dataframe tbody tr th {\n",
       "        vertical-align: top;\n",
       "    }\n",
       "\n",
       "    .dataframe thead th {\n",
       "        text-align: right;\n",
       "    }\n",
       "</style>\n",
       "<table border=\"1\" class=\"dataframe\">\n",
       "  <thead>\n",
       "    <tr style=\"text-align: right;\">\n",
       "      <th></th>\n",
       "      <th>State</th>\n",
       "      <th>City/County</th>\n",
       "      <th>Ordinance</th>\n",
       "      <th>Site</th>\n",
       "      <th>href</th>\n",
       "      <th>unique_id</th>\n",
       "    </tr>\n",
       "  </thead>\n",
       "  <tbody>\n",
       "    <tr>\n",
       "      <th>0</th>\n",
       "      <td>Arkansas</td>\n",
       "      <td>City of Lincoln (Washington County)</td>\n",
       "      <td>https://ecode360.com/LI3811</td>\n",
       "      <td>General Code</td>\n",
       "      <td>LI3811</td>\n",
       "      <td>0</td>\n",
       "    </tr>\n",
       "    <tr>\n",
       "      <th>1</th>\n",
       "      <td>California</td>\n",
       "      <td>City of Albany (Alameda County)</td>\n",
       "      <td>https://ecode360.com/AL4074</td>\n",
       "      <td>General Code</td>\n",
       "      <td>AL4074</td>\n",
       "      <td>1</td>\n",
       "    </tr>\n",
       "  </tbody>\n",
       "</table>\n",
       "</div>"
      ],
      "text/plain": [
       "        State                          City/County  \\\n",
       "0    Arkansas  City of Lincoln (Washington County)   \n",
       "1  California      City of Albany (Alameda County)   \n",
       "\n",
       "                     Ordinance          Site    href  unique_id  \n",
       "0  https://ecode360.com/LI3811  General Code  LI3811          0  \n",
       "1  https://ecode360.com/AL4074  General Code  AL4074          1  "
      ]
     },
     "execution_count": 94,
     "metadata": {},
     "output_type": "execute_result"
    }
   ],
   "source": [
    "all_meta_data_ecode_360['href'] = all_meta_data_ecode_360.Ordinance.apply(lambda x: x.split('/')[-1]).values\n",
    "all_meta_data_ecode_360['unique_id'] = range(all_meta_data_ecode_360.shape[0])\n",
    "\n",
    "meta_data = all_meta_data_ecode_360\n",
    "meta_data.head(2)"
   ]
  },
  {
   "cell_type": "markdown",
   "id": "ebcb663a",
   "metadata": {},
   "source": [
    "- **\\[IMPORTANT\\]: In the file `#src/tree_spider.py`, I defined a \"spider\" to help me scrap the ecode360 websites. The overall idea is to treat each zoning ordinate as a tree and each page as a node. If a page only contains links and no content, it's not a leaf node and we need to scrap all the links in that page; if a page contains content, it is a leaf node and we only scrap the content (text) and stop there.**"
   ]
  },
  {
   "cell_type": "code",
   "execution_count": 95,
   "id": "883ee5cf",
   "metadata": {},
   "outputs": [],
   "source": [
    "%run ../src/tree_spider.py "
   ]
  },
  {
   "cell_type": "code",
   "execution_count": 94,
   "id": "85b58918",
   "metadata": {},
   "outputs": [
    {
     "name": "stderr",
     "output_type": "stream",
     "text": [
      "100%|█████████████████████████████████| 33/33 [15:00<00:00, 27.29s/it]\n"
     ]
    }
   ],
   "source": [
    "for row_idx in tqdm(range(100)):\n",
    "    curr_row = meta_data.iloc[row_idx]w')\n",
    "    ts = TreeSpider('/' + curr_row.href)\n",
    "    ts.run()\n",
    "    pickle.dump(ts, open('../data/scrapped/' + str(curr_row.unique_id) + '.pkl', 'wb'))"
   ]
  },
  {
   "cell_type": "code",
   "execution_count": 72,
   "id": "5b29479a",
   "metadata": {},
   "outputs": [],
   "source": [
    "# pickle.dump(ts, open('../data/scrapped/' + str(curr_row.unique_id) + '.pkl', 'wb'))"
   ]
  },
  {
   "cell_type": "code",
   "execution_count": 73,
   "id": "34349107",
   "metadata": {},
   "outputs": [],
   "source": [
    "# tmp = pickle.load(open('../data/scrapped/' + str(curr_row.unique_id) + '.pkl', 'rb'))"
   ]
  },
  {
   "cell_type": "code",
   "execution_count": null,
   "id": "36137f80",
   "metadata": {},
   "outputs": [],
   "source": [
    "import string\n",
    "valid_ending_letters = set(list(string.ascii_lowercase + ','))\n",
    "lower_case_letters = set(list(string.ascii_lowercase))\n",
    "\n",
    "def post_processing(doc):\n",
    "    '''\n",
    "        process the doc (str) that comes from the web-scraping result\n",
    "    '''\n",
    "    doc += '\\n'\n",
    "    all_sent = doc.split('\\n')\n",
    "    result = ''\n",
    "    i = 0\n",
    "    pbar = tqdm(total = len(all_sent)-1)\n",
    "    print(' => Post processing,', (len(all_sent)-1), 'steps in total.')\n",
    "    while i < (len(all_sent) - 1):\n",
    "        curr_str = all_sent[i].strip()\n",
    "        next_str = all_sent[i+1].strip()\n",
    "        if len(curr_str) > 0 and len(next_str) > 0 and curr_str[-1] in valid_ending_letters and next_str[0] in lower_case_letters:\n",
    "            result += curr_str\n",
    "        else:\n",
    "            result += curr_str\n",
    "            result += '\\n'\n",
    "        i += 1\n",
    "        pbar.update(1)\n",
    "    pbar.close()\n",
    "    return result      "
   ]
  },
  {
   "cell_type": "code",
   "execution_count": null,
   "id": "8a8f4876",
   "metadata": {},
   "outputs": [],
   "source": []
  },
  {
   "cell_type": "code",
   "execution_count": 120,
   "id": "fd7e6266",
   "metadata": {},
   "outputs": [],
   "source": [
    "# test on an example (www.ecode360.com/BR4037)\n",
    "\n",
    "href = '/BR4037'\n",
    "ts = TreeSpider(href)\n",
    "ts.run()"
   ]
  },
  {
   "cell_type": "code",
   "execution_count": null,
   "id": "adcfd7cc",
   "metadata": {},
   "outputs": [],
   "source": []
  },
  {
   "cell_type": "code",
   "execution_count": null,
   "id": "af39feeb",
   "metadata": {},
   "outputs": [],
   "source": []
  },
  {
   "cell_type": "code",
   "execution_count": null,
   "id": "a9a7aa9a",
   "metadata": {},
   "outputs": [],
   "source": []
  },
  {
   "cell_type": "code",
   "execution_count": null,
   "id": "c60a0224",
   "metadata": {},
   "outputs": [],
   "source": []
  },
  {
   "cell_type": "code",
   "execution_count": null,
   "id": "9ec4fa5b",
   "metadata": {},
   "outputs": [],
   "source": []
  }
 ],
 "metadata": {
  "kernelspec": {
   "display_name": "Python 3 (ipykernel)",
   "language": "python",
   "name": "python3"
  },
  "language_info": {
   "codemirror_mode": {
    "name": "ipython",
    "version": 3
   },
   "file_extension": ".py",
   "mimetype": "text/x-python",
   "name": "python",
   "nbconvert_exporter": "python",
   "pygments_lexer": "ipython3",
   "version": "3.8.2"
  }
 },
 "nbformat": 4,
 "nbformat_minor": 5
}
