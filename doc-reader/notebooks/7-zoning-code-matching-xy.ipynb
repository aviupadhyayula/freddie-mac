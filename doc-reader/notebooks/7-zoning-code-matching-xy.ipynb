{
 "cells": [
  {
   "cell_type": "markdown",
   "id": "7b2021f7",
   "metadata": {},
   "source": [
    "# Zoning code searching\n",
    "- This document handles zoning code searching in the zoning ordinates (finding out if a \"code\" appeared in a document)\n",
    "- Part 1: codelibrary \n",
    "    - 1.1 scraping: fake api calls\n",
    "    - 1.2 load existing zoning names/codes and find them in the documents\n",
    "- Part 2: municode"
   ]
  },
  {
   "cell_type": "code",
   "execution_count": 2,
   "id": "ec7046da",
   "metadata": {},
   "outputs": [],
   "source": [
    "import numpy as np\n",
    "import pandas as pd\n",
    "import re\n",
    "import requests\n",
    "from bs4 import BeautifulSoup\n",
    "from tqdm import tqdm\n",
    "import pickle\n",
    "import string\n",
    "printable_set = set(list(string.printable))"
   ]
  },
  {
   "cell_type": "markdown",
   "id": "112eaf25",
   "metadata": {},
   "source": [
    "# 1. codelibrary"
   ]
  },
  {
   "cell_type": "code",
   "execution_count": 5,
   "id": "7b5e5783",
   "metadata": {},
   "outputs": [],
   "source": [
    "user_agent = 'Mozilla/5.0 (Macintosh; U; Intel Mac OS X 10_6_6; en-US) AppleWebKit/533.20.25 (KHTML, like Gecko) Version/5.0.4 Safari/533.20.27'\n",
    "# url = 'https://codelibrary.amlegal.com/codes/templecityca/latest/templecity_ca/0-0-0-34203'\n",
    "\n",
    "headers = {\n",
    "    'User-Agent': user_agent\n",
    "}"
   ]
  },
  {
   "cell_type": "code",
   "execution_count": 259,
   "id": "2a307361",
   "metadata": {},
   "outputs": [],
   "source": [
    "# temple city\n",
    "# LOCKPORT, il\n",
    "# use zoning list instead of the whole zoning (for parsing)"
   ]
  },
  {
   "cell_type": "markdown",
   "id": "5088cea4",
   "metadata": {},
   "source": [
    "## 1.1 Scraping"
   ]
  },
  {
   "cell_type": "code",
   "execution_count": 3,
   "id": "6e7bce2a",
   "metadata": {},
   "outputs": [
    {
     "data": {
      "text/plain": [
       "False"
      ]
     },
     "execution_count": 3,
     "metadata": {},
     "output_type": "execute_result"
    }
   ],
   "source": [
    "idx = 190\n",
    "url = 'https://codelibrary.amlegal.com/api/render-section/winthropharbor/latest/winthropharbor_il/0-0-0-39885/{}/'.format(idx)   \n",
    "url\n",
    "res = requests.get(url, headers = headers)\n",
    "soup = BeautifulSoup(res.text, features=\"lxml\")\n",
    "res.status_code == 404"
   ]
  },
  {
   "cell_type": "code",
   "execution_count": 6,
   "id": "b4f6464a",
   "metadata": {},
   "outputs": [],
   "source": [
    "def clean_content(sent):\n",
    "    sent = ''.join([c if c in printable_set else ' ' for c in sent])\n",
    "    sent = re.sub('\\n', ' ', sent)\n",
    "    sent = re.sub(' +', ' ', sent)\n",
    "    sent = re.sub('\\t+', ' ', sent)\n",
    "    return sent\n",
    "\n",
    "def change_url(url):\n",
    "    if '#' in url:\n",
    "        url = url.split('#')[0]\n",
    "    url = re.sub('codes', 'api/render-section', url)\n",
    "    url = url\n",
    "    return url\n",
    "\n",
    "def process_soup_text(soup_text):\n",
    "    starting_idx = list(re.finditer('\"html\":\"', soup_text))[0].span()[1]\n",
    "    return soup_text[starting_idx:]\n",
    "\n",
    "def parse_table(soup):\n",
    "    table_text = []\n",
    "    for t in soup.find_all('table'):\n",
    "        for child in t.tbody.children:\n",
    "            table_text.append(' '.join([i.text for i in list(child.children)]))\n",
    "    if len(table_text) == 0:\n",
    "        return ''\n",
    "    return '\\n'.join(table_text)\n",
    "\n",
    "def parse_codelibrary(url):\n",
    "    res = requests.get(url, headers = headers)\n",
    "    soup = BeautifulSoup(res.text, features=\"lxml\")\n",
    "\n",
    "    i = 0\n",
    "    start_scraping = False\n",
    "    section_count = 0\n",
    "    all_text = []\n",
    "    \n",
    "    curr_section = soup.find_all('div', attrs = {'id': 'curr-section'})\n",
    "    if len(curr_section) == 0:\n",
    "        print('[ERROR!] No current_section found! URL:', url)\n",
    "        return ''\n",
    "    \n",
    "    curr_section_found = False\n",
    "    starting_id = 0\n",
    "    for child in curr_section[0].children:\n",
    "        try:\n",
    "            starting_id = child['id'].replace('section-', '').strip()\n",
    "            starting_id = int(starting_id)\n",
    "            curr_section_found = True\n",
    "        except:\n",
    "            continue\n",
    "        if curr_section_found:\n",
    "            all_text.append(child.text)\n",
    "            section_count += 1\n",
    "            break\n",
    "    \n",
    "    i = starting_id + 1\n",
    "    while True:\n",
    "        if not start_scraping:\n",
    "            section_i = soup.find_all('div', attrs = {'id': 'section-{}'.format(i)})\n",
    "            #print(i, len(section_i))\n",
    "            if len(section_i) == 0:\n",
    "                start_scraping = True\n",
    "            else:\n",
    "                all_text.append(section_i[0].text)\n",
    "                section_count += 1\n",
    "                i += 1\n",
    "        else:\n",
    "            section_url = change_url(url) + '/{}/'.format(i)\n",
    "            try:\n",
    "                res = requests.get(section_url, headers = headers)\n",
    "            except:\n",
    "                break\n",
    "            #print(section_url)\n",
    "            #print(i, res.status_code)\n",
    "            if res.status_code == 404:\n",
    "                break\n",
    "            soup = BeautifulSoup(res.text, features=\"lxml\")\n",
    "            table_text = parse_table(soup)\n",
    "            tmp_text_result = process_soup_text(soup.text) + '\\n' + table_text\n",
    "            all_text.append(tmp_text_result)\n",
    "            section_count += 1\n",
    "            if section_count > 10:\n",
    "                break\n",
    "            i += 1\n",
    "    return '\\n'.join([clean_content(doc) for doc in all_text]), section_count\n",
    "    #return all_text, section_count"
   ]
  },
  {
   "cell_type": "code",
   "execution_count": 4,
   "id": "3a230ef3",
   "metadata": {},
   "outputs": [],
   "source": [
    "# def clean_content(sent):\n",
    "#     sent = ''.join([c if c in printable_set else ' ' for c in sent])\n",
    "#     sent = re.sub('\\n', ' ', sent)\n",
    "#     sent = re.sub(' +', ' ', sent)\n",
    "#     sent = re.sub('\\t+', ' ', sent)\n",
    "#     return sent\n",
    "\n",
    "# def change_url(url):\n",
    "#     if '#' in url:\n",
    "#         url = url.split('#')[0]\n",
    "#     url = re.sub('codes', 'api/render-section', url)\n",
    "#     url = url\n",
    "#     return url\n",
    "\n",
    "# def process_soup_text(soup_text):\n",
    "#     #print(soup_text)\n",
    "#     #print('\"html\":\"' in soup_text)\n",
    "#     #print(list(re.finditer('\"html\":\"', soup_text)))\n",
    "#     starting_idx = list(re.finditer('\"html\":\"', soup_text))[0].span()[1]\n",
    "#     return soup_text[starting_idx:]\n",
    "\n",
    "# def parse_codelibrary(url):\n",
    "#     res = requests.get(url, headers = headers)\n",
    "#     soup = BeautifulSoup(res.text, features=\"lxml\")\n",
    "\n",
    "#     i = 0\n",
    "#     start_scraping = False\n",
    "#     section_count = 0\n",
    "#     all_text = []\n",
    "    \n",
    "#     curr_section = soup.find_all('div', attrs = {'id': 'curr-section'})\n",
    "#     if len(curr_section) == 0:\n",
    "#         print('[ERROR!] No current_section found! URL:', url)\n",
    "#         return ''\n",
    "    \n",
    "#     curr_section_found = False\n",
    "#     starting_id = 0\n",
    "#     for child in curr_section[0].children:\n",
    "#         try:\n",
    "#             starting_id = child['id'].replace('section-', '').strip()\n",
    "#             starting_id = int(starting_id)\n",
    "#             curr_section_found = True\n",
    "#         except:\n",
    "#             continue\n",
    "#         if curr_section_found:\n",
    "#             all_text.append(child.text)\n",
    "#             section_count += 1\n",
    "#             break\n",
    "    \n",
    "#     i = starting_id + 1\n",
    "#     while True:\n",
    "#         if not start_scraping:\n",
    "#             section_i = soup.find_all('div', attrs = {'id': 'section-{}'.format(i)})\n",
    "#             #print(i, len(section_i))\n",
    "#             if len(section_i) == 0:\n",
    "#                 start_scraping = True\n",
    "#             else:\n",
    "#                 all_text.append(section_i[0].text)\n",
    "#                 section_count += 1\n",
    "#                 i += 1\n",
    "#         else:\n",
    "#             section_url = change_url(url) + '/{}/'.format(i)\n",
    "#             try:\n",
    "#                 res = requests.get(section_url, headers = headers)\n",
    "#             except:\n",
    "#                 break\n",
    "#             #print(section_url)\n",
    "#             #print(i, res.status_code)\n",
    "#             if res.status_code == 404:\n",
    "#                 break\n",
    "#             soup = BeautifulSoup(res.text, features=\"lxml\")\n",
    "#             all_text.append(process_soup_text(soup.text))\n",
    "#             section_count += 1\n",
    "#             i += 1\n",
    "#     return '\\n'.join([clean_content(doc) for doc in all_text]), section_count"
   ]
  },
  {
   "cell_type": "markdown",
   "id": "dcc2b043",
   "metadata": {},
   "source": [
    "- **testing scraper**"
   ]
  },
  {
   "cell_type": "code",
   "execution_count": 7,
   "id": "5713735f",
   "metadata": {},
   "outputs": [],
   "source": [
    "# url = 'https://codelibrary.amlegal.com/codes/lockport/latest/lockport_il/0-0-0-77949'\n",
    "# lockport, section_count = parse_codelibrary(url)\n",
    "\n",
    "# url = 'https://codelibrary.amlegal.com/codes/danvilleca/latest/danville_ca/0-0-0-7018'\n",
    "# danville_ca, section_count = parse_codelibrary(url)\n",
    "\n",
    "url = 'https://codelibrary.amlegal.com/codes/minookail/latest/minooka_il/0-0-0-5147'\n",
    "minoka, section_count = parse_codelibrary(url)"
   ]
  },
  {
   "cell_type": "code",
   "execution_count": 8,
   "id": "5ef6c9c0",
   "metadata": {},
   "outputs": [
    {
     "data": {
      "text/plain": [
       "4"
      ]
     },
     "execution_count": 8,
     "metadata": {},
     "output_type": "execute_result"
    }
   ],
   "source": [
    "section_count"
   ]
  },
  {
   "cell_type": "code",
   "execution_count": 9,
   "id": "0bd1201d",
   "metadata": {},
   "outputs": [
    {
     "data": {
      "text/plain": [
       "'CHAPTER 4ZONING DISTRICTS AND MAPSECTION:5-4-1 Establishment Of Districts5-4-2 Zoning District Map; Boundaries Of Districts5-4-3 Annexed Territory \\n5-4-1: ESTABLISHMENT OF DISTRICTS:In order to carry out the purposes and intent of this title, the village is hereby divided into the following districts:AAgricultural districtR1Single-family detached residence districtR1ASingle-family detached residence districtR2Single-family detached residence districtR3Single-family attached and multiple-family residence districtR4Two-family (duplex) residence districtR4ATwo-family (duplex) residence districtR5Single-family attached residence districtR6Multiple-family residence districtB1Business districtB2Commercial districtM1Manufacturing districtM2Manufacturing districtLowland conservancy overlay district (Ord. 2003-34, 8-26-2003)\\\\n\"} A Agricultural district R1 Single-family detached residence district R1A Single-family detached residence district R2 Single-family detached residence district R3 Single-family attached and multiple-family residence district R4 Two-family (duplex) residence district R4A Two-family (duplex) residence district R5 Single-family attached residence district R6 Multiple-family residence district B1 Business district B2 Commercial district M1 Manufacturing district M2 Manufacturing district Lowland conservancy overlay district\\n5-4-2: ZONING DISTRICT MAP; BOUNDARIES OF DISTRICTS: A. Zoning District Map: The zoning districts and their boundaries are as shown upon the zoning district map entitled \\\\\"zoning district map, village of Minooka, Illinois\\\\\", dated 1974, which map and all amendments thereto and all notations, references and other information shown thereon are hereby incorporated into and made a part of this title, with the same force and effect as if fully set forth in this title. The original zoning district map, properly attested to, shall be filed with the village clerk. B. Boundaries Of Districts: Where uncertainty exists with respect to the boundaries of the various districts as shown on the zoning district map, the following rules apply: 1. District boundary lines are either: a) the centerlines of railroads, highways, streets, alleys, easements or waterways; b) the boundary lines of sections, quarter sections and divisions of sections; c) property lines of record on the effective date hereof for tracts and lots; or d) such lines extended unless otherwise indicated. 2. Wherever a district is indicated as a strip adjacent to and paralleling a street or highway, and the boundaries are not located as set forth in subsection B1 of this section, the depth of such strips shall be in accordance with dimensions shown on the map measured at right angles from the centerlines of the street or highway, and the length of frontage shall be in accordance with dimensions shown on the map from section, quarter section or division lines, or centerlines of streets, highways or railroad rights of way unless otherwise indicated. 3. Where a district boundary line divides a lot in single ownership, the regulations for either portion of the lot may, in the owner\\'s discretion, extend to the entire lot, but not more than forty feet (40\\') beyond the boundary line of the district. (Ord., 5-15-1974) 4. Questions concerning the exact locations of zoning district boundary lines shall be resolved by the board of trustees after receiving recommendations from the planning and zoning commission. (Ord., 5-15-1974; amd. Ord. 1993-12, 8-24-1993)\\\\n\"} \\n5-4-3: ANNEXED TERRITORY:On land hereafter annexed to the village, no structures shall be erected, enlarged or moved and no change in use of land or existing structures shall be made until an amendment to this title designating the zoning district classification of such annexed land is duly adopted by the board of trustees; provided, that if no such ordinance has been so adopted within one hundred twenty (120) days after such land is annexed, the annexed land shall be automatically classified as R1 single-family detached residence district. (Ord., 5-15-1974; amd. Ord. 1993-12, 8-24-1993)\\\\n\"} '"
      ]
     },
     "execution_count": 9,
     "metadata": {},
     "output_type": "execute_result"
    }
   ],
   "source": [
    "minoka"
   ]
  },
  {
   "cell_type": "code",
   "execution_count": 363,
   "id": "4a5f9157",
   "metadata": {},
   "outputs": [],
   "source": [
    "# https://codelibrary.amlegal.com/api/render-section/lockport/latest/lockport_il/0-0-0-77949/2/"
   ]
  },
  {
   "cell_type": "code",
   "execution_count": 364,
   "id": "4e572a33",
   "metadata": {},
   "outputs": [],
   "source": [
    "# res = requests.get(url, headers = headers)\n",
    "# soup = BeautifulSoup(res.text, features=\"lxml\")"
   ]
  },
  {
   "cell_type": "code",
   "execution_count": 365,
   "id": "62a97f29",
   "metadata": {},
   "outputs": [],
   "source": [
    "# res.status_code"
   ]
  },
  {
   "cell_type": "markdown",
   "id": "1f7377d3",
   "metadata": {},
   "source": [
    "## 1.2 Matching existing oridinates"
   ]
  },
  {
   "cell_type": "code",
   "execution_count": 366,
   "id": "2d2e6b56",
   "metadata": {},
   "outputs": [
    {
     "data": {
      "text/html": [
       "<div>\n",
       "<style scoped>\n",
       "    .dataframe tbody tr th:only-of-type {\n",
       "        vertical-align: middle;\n",
       "    }\n",
       "\n",
       "    .dataframe tbody tr th {\n",
       "        vertical-align: top;\n",
       "    }\n",
       "\n",
       "    .dataframe thead th {\n",
       "        text-align: right;\n",
       "    }\n",
       "</style>\n",
       "<table border=\"1\" class=\"dataframe\">\n",
       "  <thead>\n",
       "    <tr style=\"text-align: right;\">\n",
       "      <th></th>\n",
       "      <th>assignedto</th>\n",
       "      <th>ID</th>\n",
       "      <th>ID_notunique</th>\n",
       "      <th>GEOID</th>\n",
       "      <th>state</th>\n",
       "      <th>county</th>\n",
       "      <th>place</th>\n",
       "      <th>muncipalcode</th>\n",
       "      <th>site</th>\n",
       "      <th>priority1129</th>\n",
       "      <th>...</th>\n",
       "      <th>Use for model</th>\n",
       "      <th>complex?</th>\n",
       "      <th>zoningchapter</th>\n",
       "      <th>List of Zoning Districts</th>\n",
       "      <th>Residential_density_section</th>\n",
       "      <th>Table or text</th>\n",
       "      <th>Zoning chapter or density table as PDF? (new field)</th>\n",
       "      <th>Other district density section</th>\n",
       "      <th>Notes</th>\n",
       "      <th>Unnamed: 20</th>\n",
       "    </tr>\n",
       "  </thead>\n",
       "  <tbody>\n",
       "    <tr>\n",
       "      <th>0</th>\n",
       "      <td>Jacob</td>\n",
       "      <td>NaN</td>\n",
       "      <td>30</td>\n",
       "      <td>151696</td>\n",
       "      <td>Alabama</td>\n",
       "      <td>Jefferson County</td>\n",
       "      <td>MOUNTAIN BROOK</td>\n",
       "      <td>https://library.municode.com/al/mountain_brook</td>\n",
       "      <td>Municode</td>\n",
       "      <td>0.0</td>\n",
       "      <td>...</td>\n",
       "      <td>1.0</td>\n",
       "      <td>NaN</td>\n",
       "      <td>https://library.municode.com/al/mountain_brook...</td>\n",
       "      <td>https://library.municode.com/al/mountain_brook...</td>\n",
       "      <td>NaN</td>\n",
       "      <td>text</td>\n",
       "      <td>NaN</td>\n",
       "      <td>NaN</td>\n",
       "      <td>different density section for each district</td>\n",
       "      <td>NaN</td>\n",
       "    </tr>\n",
       "    <tr>\n",
       "      <th>1</th>\n",
       "      <td>Jacob</td>\n",
       "      <td>NaN</td>\n",
       "      <td>16</td>\n",
       "      <td>100820</td>\n",
       "      <td>Alabama</td>\n",
       "      <td>Shelby County</td>\n",
       "      <td>ALABASTER</td>\n",
       "      <td>https://library.municode.com/al/alabaster</td>\n",
       "      <td>Municode</td>\n",
       "      <td>0.0</td>\n",
       "      <td>...</td>\n",
       "      <td>1.0</td>\n",
       "      <td>NaN</td>\n",
       "      <td>https://library.municode.com/al/alabaster/code...</td>\n",
       "      <td>https://library.municode.com/al/alabaster/code...</td>\n",
       "      <td>https://library.municode.com/al/alabaster/code...</td>\n",
       "      <td>multiple tables</td>\n",
       "      <td>NaN</td>\n",
       "      <td>NaN</td>\n",
       "      <td>NaN</td>\n",
       "      <td>NaN</td>\n",
       "    </tr>\n",
       "  </tbody>\n",
       "</table>\n",
       "<p>2 rows × 21 columns</p>\n",
       "</div>"
      ],
      "text/plain": [
       "  assignedto  ID ID_notunique   GEOID    state            county  \\\n",
       "0      Jacob NaN           30  151696  Alabama  Jefferson County   \n",
       "1      Jacob NaN           16  100820  Alabama     Shelby County   \n",
       "\n",
       "            place                                    muncipalcode      site  \\\n",
       "0  MOUNTAIN BROOK  https://library.municode.com/al/mountain_brook  Municode   \n",
       "1       ALABASTER       https://library.municode.com/al/alabaster  Municode   \n",
       "\n",
       "   priority1129  ...  Use for model  complex?  \\\n",
       "0           0.0  ...            1.0       NaN   \n",
       "1           0.0  ...            1.0       NaN   \n",
       "\n",
       "                                       zoningchapter  \\\n",
       "0  https://library.municode.com/al/mountain_brook...   \n",
       "1  https://library.municode.com/al/alabaster/code...   \n",
       "\n",
       "                            List of Zoning Districts  \\\n",
       "0  https://library.municode.com/al/mountain_brook...   \n",
       "1  https://library.municode.com/al/alabaster/code...   \n",
       "\n",
       "                         Residential_density_section    Table or text  \\\n",
       "0                                                NaN             text   \n",
       "1  https://library.municode.com/al/alabaster/code...  multiple tables   \n",
       "\n",
       "  Zoning chapter or density table as PDF? (new field)  \\\n",
       "0                                                NaN    \n",
       "1                                                NaN    \n",
       "\n",
       "  Other district density section                                        Notes  \\\n",
       "0                            NaN  different density section for each district   \n",
       "1                            NaN                                          NaN   \n",
       "\n",
       "  Unnamed: 20  \n",
       "0         NaN  \n",
       "1         NaN  \n",
       "\n",
       "[2 rows x 21 columns]"
      ]
     },
     "execution_count": 366,
     "metadata": {},
     "output_type": "execute_result"
    }
   ],
   "source": [
    "za_ordinates_links = pd.read_csv('../data/za_ordinates_links.csv')\n",
    "za_ordinates_links.head(2)"
   ]
  },
  {
   "cell_type": "code",
   "execution_count": 392,
   "id": "2850b736",
   "metadata": {},
   "outputs": [
    {
     "data": {
      "text/plain": [
       "(36, 112)"
      ]
     },
     "execution_count": 392,
     "metadata": {},
     "output_type": "execute_result"
    }
   ],
   "source": [
    "# za_ordinates_links.isna().sum()\n",
    "len(all_results), i"
   ]
  },
  {
   "cell_type": "code",
   "execution_count": 390,
   "id": "cb2b6997",
   "metadata": {},
   "outputs": [],
   "source": [
    "%run ../src/tree_spider.py\n",
    "%run ../src/utils.py"
   ]
  },
  {
   "cell_type": "code",
   "execution_count": 397,
   "id": "7d9c77cf",
   "metadata": {},
   "outputs": [],
   "source": [
    "all_results = []\n",
    "counter = 0\n",
    "# starting = 112\n",
    "weird_county = []"
   ]
  },
  {
   "cell_type": "code",
   "execution_count": 398,
   "id": "05ebf200",
   "metadata": {
    "scrolled": true
   },
   "outputs": [
    {
     "name": "stderr",
     "output_type": "stream",
     "text": [
      "100%|███████████████████████████████| 193/193 [02:14<00:00,  1.43it/s]\n"
     ]
    }
   ],
   "source": [
    "for i in tqdm(range(za_ordinates_links.shape[0])):\n",
    "#     if i < starting:\n",
    "#         continue\n",
    "    curr_row = za_ordinates_links.iloc[i]\n",
    "    url = curr_row['zoningchapter']\n",
    "    if isinstance(url, str) and 'codelibrary' in url:\n",
    "        all_text, section_count = parse_codelibrary(url)\n",
    "        if section_count == 1:\n",
    "            url = curr_row['List of Zoning Districts']\n",
    "            #print(curr_row)\n",
    "            try:\n",
    "                all_text, section_count = parse_codelibrary(url)\n",
    "            except:\n",
    "                weird_county.append(i)\n",
    "                \n",
    "        all_results.append({\n",
    "            'idx': counter,\n",
    "            'state': curr_row.state,\n",
    "            'county': curr_row.county,\n",
    "            'muni': curr_row.place,\n",
    "            'all_text': all_text,\n",
    "            'section_count': section_count,\n",
    "            'source': 'codelibrary'\n",
    "        })\n",
    "    elif isinstance(url, str) and 'ecode360' in url:\n",
    "        try:\n",
    "            ts = TreeSpider(url.split('/')[-1])\n",
    "            ts.run()\n",
    "            all_text = ts.find_all_leaf_text()\n",
    "        except:\n",
    "            all_text = 'ecode_360_nothing_found'\n",
    "        section_count = -1\n",
    "        all_results.append({\n",
    "            'idx': counter,\n",
    "            'state': curr_row.state,\n",
    "            'county': curr_row.county,\n",
    "            'muni': curr_row.place,\n",
    "            'all_text': all_text,\n",
    "            'section_count': section_count,\n",
    "            'source': 'ecode360'\n",
    "        })\n",
    "        \n",
    "    counter += 1"
   ]
  },
  {
   "cell_type": "code",
   "execution_count": 446,
   "id": "b5c0d4a2",
   "metadata": {},
   "outputs": [
    {
     "data": {
      "text/plain": [
       "[]"
      ]
     },
     "execution_count": 446,
     "metadata": {},
     "output_type": "execute_result"
    }
   ],
   "source": [
    "# ts.root_node.children[0]"
   ]
  },
  {
   "cell_type": "code",
   "execution_count": 399,
   "id": "097727c5",
   "metadata": {},
   "outputs": [
    {
     "data": {
      "text/html": [
       "<div>\n",
       "<style scoped>\n",
       "    .dataframe tbody tr th:only-of-type {\n",
       "        vertical-align: middle;\n",
       "    }\n",
       "\n",
       "    .dataframe tbody tr th {\n",
       "        vertical-align: top;\n",
       "    }\n",
       "\n",
       "    .dataframe thead th {\n",
       "        text-align: right;\n",
       "    }\n",
       "</style>\n",
       "<table border=\"1\" class=\"dataframe\">\n",
       "  <thead>\n",
       "    <tr style=\"text-align: right;\">\n",
       "      <th></th>\n",
       "      <th>idx</th>\n",
       "      <th>state</th>\n",
       "      <th>county</th>\n",
       "      <th>muni</th>\n",
       "      <th>all_text</th>\n",
       "      <th>section_count</th>\n",
       "    </tr>\n",
       "  </thead>\n",
       "  <tbody>\n",
       "    <tr>\n",
       "      <th>0</th>\n",
       "      <td>3</td>\n",
       "      <td>California</td>\n",
       "      <td>Contra Costa County</td>\n",
       "      <td>DANVILLE</td>\n",
       "      <td>CHAPTER XXXIIPLANNING AND LAND USE \\t\\t\\t\\t* \\...</td>\n",
       "      <td>582</td>\n",
       "    </tr>\n",
       "    <tr>\n",
       "      <th>1</th>\n",
       "      <td>6</td>\n",
       "      <td>California</td>\n",
       "      <td>Los Angeles County</td>\n",
       "      <td>TEMPLE CITY</td>\n",
       "      <td>TITLE 9ZONING REGULATIONSCHAPTER 1ZONING CODE\\...</td>\n",
       "      <td>27</td>\n",
       "    </tr>\n",
       "  </tbody>\n",
       "</table>\n",
       "</div>"
      ],
      "text/plain": [
       "   idx       state               county         muni  \\\n",
       "0    3  California  Contra Costa County     DANVILLE   \n",
       "1    6  California   Los Angeles County  TEMPLE CITY   \n",
       "\n",
       "                                            all_text  section_count  \n",
       "0  CHAPTER XXXIIPLANNING AND LAND USE \\t\\t\\t\\t* \\...            582  \n",
       "1  TITLE 9ZONING REGULATIONSCHAPTER 1ZONING CODE\\...             27  "
      ]
     },
     "execution_count": 399,
     "metadata": {},
     "output_type": "execute_result"
    }
   ],
   "source": [
    "codelibrary_results = pd.DataFrame(all_results)\n",
    "codelibrary_results.head(2)"
   ]
  },
  {
   "cell_type": "code",
   "execution_count": 400,
   "id": "25151a42",
   "metadata": {},
   "outputs": [
    {
     "data": {
      "text/html": [
       "<div>\n",
       "<style scoped>\n",
       "    .dataframe tbody tr th:only-of-type {\n",
       "        vertical-align: middle;\n",
       "    }\n",
       "\n",
       "    .dataframe tbody tr th {\n",
       "        vertical-align: top;\n",
       "    }\n",
       "\n",
       "    .dataframe thead th {\n",
       "        text-align: right;\n",
       "    }\n",
       "</style>\n",
       "<table border=\"1\" class=\"dataframe\">\n",
       "  <thead>\n",
       "    <tr style=\"text-align: right;\">\n",
       "      <th></th>\n",
       "      <th>idx</th>\n",
       "      <th>state</th>\n",
       "      <th>county</th>\n",
       "      <th>muni</th>\n",
       "      <th>all_text</th>\n",
       "      <th>section_count</th>\n",
       "    </tr>\n",
       "  </thead>\n",
       "  <tbody>\n",
       "    <tr>\n",
       "      <th>13</th>\n",
       "      <td>47</td>\n",
       "      <td>Illinois</td>\n",
       "      <td>Lake County</td>\n",
       "      <td>LAKE ZURICH</td>\n",
       "      <td>CHAPTER 2ZONING DISTRICTS AND OFFICIAL DOCUMEN...</td>\n",
       "      <td>6</td>\n",
       "    </tr>\n",
       "  </tbody>\n",
       "</table>\n",
       "</div>"
      ],
      "text/plain": [
       "    idx     state       county         muni  \\\n",
       "13   47  Illinois  Lake County  LAKE ZURICH   \n",
       "\n",
       "                                             all_text  section_count  \n",
       "13  CHAPTER 2ZONING DISTRICTS AND OFFICIAL DOCUMEN...              6  "
      ]
     },
     "execution_count": 400,
     "metadata": {},
     "output_type": "execute_result"
    }
   ],
   "source": [
    "codelibrary_results.query('muni == \"LAKE ZURICH\"')"
   ]
  },
  {
   "cell_type": "code",
   "execution_count": null,
   "id": "34585f65",
   "metadata": {},
   "outputs": [],
   "source": []
  },
  {
   "cell_type": "code",
   "execution_count": null,
   "id": "6ed253e9",
   "metadata": {},
   "outputs": [],
   "source": []
  },
  {
   "cell_type": "code",
   "execution_count": 401,
   "id": "95d16ba9",
   "metadata": {},
   "outputs": [
    {
     "data": {
      "text/html": [
       "<div>\n",
       "<style scoped>\n",
       "    .dataframe tbody tr th:only-of-type {\n",
       "        vertical-align: middle;\n",
       "    }\n",
       "\n",
       "    .dataframe tbody tr th {\n",
       "        vertical-align: top;\n",
       "    }\n",
       "\n",
       "    .dataframe thead th {\n",
       "        text-align: right;\n",
       "    }\n",
       "</style>\n",
       "<table border=\"1\" class=\"dataframe\">\n",
       "  <thead>\n",
       "    <tr style=\"text-align: right;\">\n",
       "      <th></th>\n",
       "      <th>ID</th>\n",
       "      <th>state</th>\n",
       "      <th>muni</th>\n",
       "      <th>county</th>\n",
       "      <th>zoning</th>\n",
       "      <th>zoning_name</th>\n",
       "      <th>likelyres</th>\n",
       "      <th>count_zoning</th>\n",
       "    </tr>\n",
       "  </thead>\n",
       "  <tbody>\n",
       "    <tr>\n",
       "      <th>0</th>\n",
       "      <td>115.0</td>\n",
       "      <td>MD</td>\n",
       "      <td>Baltimore City</td>\n",
       "      <td>Baltimore</td>\n",
       "      <td>R-2</td>\n",
       "      <td>Detached and Semi-Detached Residential Zoning ...</td>\n",
       "      <td>1.0</td>\n",
       "      <td>99.0</td>\n",
       "    </tr>\n",
       "    <tr>\n",
       "      <th>1</th>\n",
       "      <td>168.0</td>\n",
       "      <td>MD</td>\n",
       "      <td>Oxford</td>\n",
       "      <td>Talbot</td>\n",
       "      <td>R-2</td>\n",
       "      <td>Historic Residential District</td>\n",
       "      <td>1.0</td>\n",
       "      <td>99.0</td>\n",
       "    </tr>\n",
       "  </tbody>\n",
       "</table>\n",
       "</div>"
      ],
      "text/plain": [
       "      ID state            muni     county zoning  \\\n",
       "0  115.0    MD  Baltimore City  Baltimore    R-2   \n",
       "1  168.0    MD          Oxford     Talbot    R-2   \n",
       "\n",
       "                                         zoning_name  likelyres  count_zoning  \n",
       "0  Detached and Semi-Detached Residential Zoning ...        1.0          99.0  \n",
       "1                      Historic Residential District        1.0          99.0  "
      ]
     },
     "execution_count": 401,
     "metadata": {},
     "output_type": "execute_result"
    }
   ],
   "source": [
    "zoning_code_julia = pd.read_csv('../data/zoning_codes_julia.csv')\n",
    "zoning_code_julia.head(2)\n",
    "# count_zoning >2"
   ]
  },
  {
   "cell_type": "code",
   "execution_count": 402,
   "id": "dbbad928",
   "metadata": {},
   "outputs": [
    {
     "data": {
      "text/plain": [
       "3213"
      ]
     },
     "execution_count": 402,
     "metadata": {},
     "output_type": "execute_result"
    }
   ],
   "source": [
    "all_codes = zoning_code_julia.zoning.dropna().values\n",
    "len(all_codes)"
   ]
  },
  {
   "cell_type": "code",
   "execution_count": 403,
   "id": "a5b00ffd",
   "metadata": {},
   "outputs": [],
   "source": [
    "all_codes = [code for code in all_codes if len(code) > 1] #ignore R, C, etc."
   ]
  },
  {
   "cell_type": "code",
   "execution_count": 404,
   "id": "85052e81",
   "metadata": {},
   "outputs": [],
   "source": [
    "# top_n = 200\n",
    "\n",
    "unique_codes, counts = np.unique(all_codes, return_counts = True) #counts >2\n",
    "all_codes_w_counts = dict(zip(unique_codes, counts))\n",
    "# all_codes_w_counts = dict(sorted(all_codes_w_counts.items(), key = lambda x: x[1], reverse = True))\n",
    "\n",
    "# top_n_codes = set(list(all_codes_w_counts.keys()))"
   ]
  },
  {
   "cell_type": "code",
   "execution_count": 405,
   "id": "5958aac4",
   "metadata": {},
   "outputs": [],
   "source": [
    "# all_codes_w_counts\n",
    "from nltk.tokenize import word_tokenize"
   ]
  },
  {
   "cell_type": "code",
   "execution_count": 406,
   "id": "875c4ae7",
   "metadata": {},
   "outputs": [
    {
     "name": "stderr",
     "output_type": "stream",
     "text": [
      "100%|█████████████████████████████████| 61/61 [02:24<00:00,  2.36s/it]\n"
     ]
    }
   ],
   "source": [
    "all_counts_results = []\n",
    "for row_idx in tqdm(range(codelibrary_results.shape[0])):\n",
    "    curr_row = codelibrary_results.iloc[row_idx]\n",
    "    all_text = curr_row.all_text\n",
    "    all_tokens = np.array(word_tokenize(all_text))\n",
    "    unique_counts = 0\n",
    "    all_counts = 0\n",
    "    matches = []\n",
    "    for k in top_n_codes:\n",
    "        if k in all_tokens:\n",
    "            unique_counts += 1\n",
    "            all_counts += sum(all_tokens == k)\n",
    "            matches.append(k)\n",
    "    all_counts_results.append({\n",
    "        'idx': curr_row.idx,\n",
    "        'state': curr_row.state,\n",
    "        'county': curr_row.county,\n",
    "        'muni': curr_row.muni,\n",
    "        'unique_matches': matches,\n",
    "        'unique_counts': unique_counts,\n",
    "        'all_counts': all_counts\n",
    "    })"
   ]
  },
  {
   "cell_type": "code",
   "execution_count": 245,
   "id": "e7ca92c5",
   "metadata": {},
   "outputs": [
    {
     "data": {
      "text/plain": [
       "list"
      ]
     },
     "execution_count": 245,
     "metadata": {},
     "output_type": "execute_result"
    }
   ],
   "source": [
    "# type(word_tokenize(all_text))"
   ]
  },
  {
   "cell_type": "code",
   "execution_count": 407,
   "id": "fb94112c",
   "metadata": {},
   "outputs": [],
   "source": [
    "all_counts_results_df = pd.DataFrame(all_counts_results)\n",
    "all_counts_results_df.to_csv('../data/all_counts_results_df.csv', index = False)"
   ]
  },
  {
   "cell_type": "code",
   "execution_count": 436,
   "id": "1de3d97c",
   "metadata": {},
   "outputs": [],
   "source": [
    "# all_counts_results_df"
   ]
  },
  {
   "cell_type": "code",
   "execution_count": 432,
   "id": "4dfdfb0d",
   "metadata": {},
   "outputs": [],
   "source": [
    "# all_counts_results_df.muni.isna().sum()\n",
    "za_ordinates_links['idx'] = range(za_ordinates_links.shape[0])"
   ]
  },
  {
   "cell_type": "code",
   "execution_count": 434,
   "id": "af49cb06",
   "metadata": {},
   "outputs": [],
   "source": [
    "all_counts_results_df = all_counts_results_df.merge(za_ordinates_links[['idx', 'muncipalcode']], how = 'left', left_on = 'idx', right_on = 'idx')\n",
    "def find_source(url):\n",
    "    if 'codelibrary' in url:\n",
    "        return 'codelibrary'\n",
    "    if 'ecode360' in url:\n",
    "        return 'ecode360'\n",
    "    return 'NOT_FOUND'\n",
    "\n",
    "all_counts_results_df['source'] = all_counts_results_df.muncipalcode.apply(find_source)"
   ]
  },
  {
   "cell_type": "code",
   "execution_count": 435,
   "id": "3366dac0",
   "metadata": {},
   "outputs": [
    {
     "data": {
      "text/html": [
       "<div>\n",
       "<style scoped>\n",
       "    .dataframe tbody tr th:only-of-type {\n",
       "        vertical-align: middle;\n",
       "    }\n",
       "\n",
       "    .dataframe tbody tr th {\n",
       "        vertical-align: top;\n",
       "    }\n",
       "\n",
       "    .dataframe thead th {\n",
       "        text-align: right;\n",
       "    }\n",
       "</style>\n",
       "<table border=\"1\" class=\"dataframe\">\n",
       "  <thead>\n",
       "    <tr style=\"text-align: right;\">\n",
       "      <th></th>\n",
       "      <th>idx</th>\n",
       "      <th>state</th>\n",
       "      <th>county</th>\n",
       "      <th>muni</th>\n",
       "      <th>unique_matches</th>\n",
       "      <th>unique_counts</th>\n",
       "      <th>all_counts</th>\n",
       "      <th>muncipalcode</th>\n",
       "      <th>source</th>\n",
       "    </tr>\n",
       "  </thead>\n",
       "  <tbody>\n",
       "  </tbody>\n",
       "</table>\n",
       "</div>"
      ],
      "text/plain": [
       "Empty DataFrame\n",
       "Columns: [idx, state, county, muni, unique_matches, unique_counts, all_counts, muncipalcode, source]\n",
       "Index: []"
      ]
     },
     "execution_count": 435,
     "metadata": {},
     "output_type": "execute_result"
    }
   ],
   "source": [
    "all_counts_results_df.query('source == \"NOT_FOUND\"')"
   ]
  },
  {
   "cell_type": "code",
   "execution_count": 437,
   "id": "b6e27a03",
   "metadata": {},
   "outputs": [],
   "source": [
    "all_counts_results_df.to_csv('../data/all_counts_results_df.csv', index = False)"
   ]
  },
  {
   "cell_type": "code",
   "execution_count": null,
   "id": "1cada6d9",
   "metadata": {},
   "outputs": [],
   "source": []
  },
  {
   "cell_type": "code",
   "execution_count": null,
   "id": "99b9fe92",
   "metadata": {},
   "outputs": [],
   "source": []
  },
  {
   "cell_type": "markdown",
   "id": "ea023553",
   "metadata": {},
   "source": [
    "# 2. municode - not finished\n",
    "- Hard to parse"
   ]
  },
  {
   "cell_type": "code",
   "execution_count": null,
   "id": "2ed2e991",
   "metadata": {},
   "outputs": [],
   "source": []
  },
  {
   "cell_type": "code",
   "execution_count": 160,
   "id": "5a2d482e",
   "metadata": {},
   "outputs": [],
   "source": [
    "user_agent = 'Mozilla/5.0 (Windows NT 6.2; WOW64) AppleWebKit/537.36 (KHTML, like Gecko) Chrome/27.0.1453.94 Safari/537.36'\n",
    "headers = {\n",
    "    'User-Agent': user_agent\n",
    "}"
   ]
  },
  {
   "cell_type": "code",
   "execution_count": 161,
   "id": "d52dc62e",
   "metadata": {},
   "outputs": [],
   "source": [
    "# headers"
   ]
  },
  {
   "cell_type": "code",
   "execution_count": 260,
   "id": "eab87475",
   "metadata": {},
   "outputs": [],
   "source": [
    "url = 'https://library.municode.com/il/sauk_village/codes/code_of_ordinances?nodeId=MUCO_CH82ZOPLDE_ARTVIIZODI_DIV2REDI_S82-222BUYARE'\n",
    "# url = 'https://api.municode.com/codesToc/breadcrumb?jobId=381269&nodeId=MUCO_CH82ZOPLDE_ARTVIIZODI_DIV2REDI_S82-222BUYARE&productId=15156'\n",
    "# url = 'https://api.municode.com/codesToc?jobId=381269&nodeId=MUCO_CH82ZOPLDE_ARTIVZOAPAP&productId=15156'\n",
    "# url = 'https://api.municode.com/CodesContent?jobId=381269&nodeId=MUCO_CH82ZOPLDE_ARTVIIZODI_DIV2REDI_S82-222BUYARE&productId=15156'\n",
    "res = requests.get(url, headers = headers)\n",
    "soup = BeautifulSoup(res.text, features=\"lxml\")"
   ]
  },
  {
   "cell_type": "code",
   "execution_count": null,
   "id": "83416267",
   "metadata": {},
   "outputs": [],
   "source": []
  },
  {
   "cell_type": "code",
   "execution_count": 261,
   "id": "3d07484a",
   "metadata": {},
   "outputs": [
    {
     "data": {
      "text/plain": [
       "<Response [200]>"
      ]
     },
     "execution_count": 261,
     "metadata": {},
     "output_type": "execute_result"
    }
   ],
   "source": [
    "res"
   ]
  },
  {
   "cell_type": "code",
   "execution_count": 179,
   "id": "379dfaed",
   "metadata": {
    "scrolled": false
   },
   "outputs": [],
   "source": [
    "# clean_content(soup.text)"
   ]
  },
  {
   "cell_type": "code",
   "execution_count": 1,
   "id": "ee5e0efb",
   "metadata": {
    "scrolled": true
   },
   "outputs": [],
   "source": [
    "# soup"
   ]
  },
  {
   "cell_type": "code",
   "execution_count": null,
   "id": "36898b21",
   "metadata": {},
   "outputs": [],
   "source": []
  }
 ],
 "metadata": {
  "kernelspec": {
   "display_name": "Python 3",
   "language": "python",
   "name": "python3"
  },
  "language_info": {
   "codemirror_mode": {
    "name": "ipython",
    "version": 3
   },
   "file_extension": ".py",
   "mimetype": "text/x-python",
   "name": "python",
   "nbconvert_exporter": "python",
   "pygments_lexer": "ipython3",
   "version": "3.7.6"
  }
 },
 "nbformat": 4,
 "nbformat_minor": 5
}
