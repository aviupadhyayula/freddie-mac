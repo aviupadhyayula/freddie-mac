{
 "cells": [
  {
   "cell_type": "code",
   "execution_count": 2,
   "id": "3906ca48",
   "metadata": {},
   "outputs": [],
   "source": [
    "from transformers import pipeline"
   ]
  },
  {
   "cell_type": "code",
   "execution_count": 3,
   "id": "9ee67899",
   "metadata": {},
   "outputs": [
    {
     "name": "stderr",
     "output_type": "stream",
     "text": [
      "No model was supplied, defaulted to distilbert-base-cased-distilled-squad (https://huggingface.co/distilbert-base-cased-distilled-squad)\n"
     ]
    }
   ],
   "source": [
    "question_answering = pipeline(\"question-answering\")"
   ]
  },
  {
   "cell_type": "code",
   "execution_count": 4,
   "id": "fc72f936",
   "metadata": {},
   "outputs": [],
   "source": [
    "file = open('../data/scrapped/branchburg.txt', 'r')\n",
    "context = ' '.join(file.readlines())"
   ]
  },
  {
   "cell_type": "code",
   "execution_count": 5,
   "id": "b84cb116",
   "metadata": {},
   "outputs": [
    {
     "data": {
      "text/plain": [
       "1665301"
      ]
     },
     "execution_count": 5,
     "metadata": {},
     "output_type": "execute_result"
    }
   ],
   "source": [
    "len(context)"
   ]
  },
  {
   "cell_type": "code",
   "execution_count": 6,
   "id": "bd1a6dcd",
   "metadata": {},
   "outputs": [],
   "source": [
    "import re"
   ]
  },
  {
   "cell_type": "code",
   "execution_count": 7,
   "id": "b79cc925",
   "metadata": {},
   "outputs": [
    {
     "data": {
      "text/plain": [
       "[<re.Match object; span=(736139, 736183), match='LD LOW DENSITY ONE ACRE RESIDENTIAL DISTRICT'>]"
      ]
     },
     "execution_count": 7,
     "metadata": {},
     "output_type": "execute_result"
    }
   ],
   "source": [
    "found_lst = list(re.finditer('LD LOW DENSITY ONE ACRE RESIDENTIAL DISTRICT', context))\n",
    "found_lst"
   ]
  },
  {
   "cell_type": "code",
   "execution_count": 8,
   "id": "ccaa5abf",
   "metadata": {},
   "outputs": [],
   "source": [
    "found_starting_idx = found_lst[0].span()[0]"
   ]
  },
  {
   "cell_type": "code",
   "execution_count": 9,
   "id": "a09fc425",
   "metadata": {},
   "outputs": [],
   "source": [
    "local_context = context[found_starting_idx: found_starting_idx+10000]"
   ]
  },
  {
   "cell_type": "code",
   "execution_count": 22,
   "id": "0a12f637",
   "metadata": {},
   "outputs": [],
   "source": [
    "# local_context"
   ]
  },
  {
   "cell_type": "code",
   "execution_count": 23,
   "id": "827bb9ca",
   "metadata": {},
   "outputs": [],
   "source": []
  },
  {
   "cell_type": "code",
   "execution_count": 24,
   "id": "7c8b1068",
   "metadata": {},
   "outputs": [
    {
     "name": "stderr",
     "output_type": "stream",
     "text": [
      "/opt/anaconda3/envs/dsml/lib/python3.8/site-packages/transformers/tokenization_utils_base.py:705: VisibleDeprecationWarning: Creating an ndarray from ragged nested sequences (which is a list-or-tuple of lists-or-tuples-or ndarrays with different lengths or shapes) is deprecated. If you meant to do this, you must specify 'dtype=object' when creating the ndarray.\n",
      "  tensor = as_tensor(value)\n",
      "/opt/anaconda3/envs/dsml/lib/python3.8/site-packages/transformers/pipelines/question_answering.py:295: VisibleDeprecationWarning: Creating an ndarray from ragged nested sequences (which is a list-or-tuple of lists-or-tuples-or ndarrays with different lengths or shapes) is deprecated. If you meant to do this, you must specify 'dtype=object' when creating the ndarray.\n",
      "  p_mask = np.asarray(\n"
     ]
    },
    {
     "name": "stdout",
     "output_type": "stream",
     "text": [
      "Answer: 24,000 square feet\n",
      "Score: 0.9679414629936218\n"
     ]
    }
   ],
   "source": [
    "question = \"What is the minimun lot size requirement?\"\n",
    "\n",
    "result = question_answering(question=question, context=local_context)\n",
    "print(\"Answer:\", result['answer'])\n",
    "print(\"Score:\", result['score'])"
   ]
  },
  {
   "cell_type": "code",
   "execution_count": null,
   "id": "1aad754d",
   "metadata": {},
   "outputs": [],
   "source": []
  },
  {
   "cell_type": "code",
   "execution_count": null,
   "id": "e965d7cf",
   "metadata": {},
   "outputs": [],
   "source": []
  },
  {
   "cell_type": "code",
   "execution_count": null,
   "id": "f6fb49a1",
   "metadata": {},
   "outputs": [],
   "source": []
  },
  {
   "cell_type": "code",
   "execution_count": 45,
   "id": "1655668d",
   "metadata": {},
   "outputs": [
    {
     "name": "stdout",
     "output_type": "stream",
     "text": [
      "Answer: 15,000 square feet\n",
      "Score: 0.38528406620025635\n"
     ]
    }
   ],
   "source": [
    "# sample 1\n",
    "file = open('../data/scrapped/branchburg_sample1.txt', 'r')\n",
    "context = ' '.join(file.readlines())\n",
    "\n",
    "question = \"What is the minimun lot size requirement?\"\n",
    "\n",
    "result = question_answering(question=question, context=context)\n",
    "print(\"Answer:\", result['answer'])\n",
    "print(\"Score:\", result['score'])"
   ]
  },
  {
   "cell_type": "code",
   "execution_count": null,
   "id": "70fef083",
   "metadata": {},
   "outputs": [],
   "source": []
  },
  {
   "cell_type": "code",
   "execution_count": 53,
   "id": "6a09e002",
   "metadata": {},
   "outputs": [
    {
     "name": "stdout",
     "output_type": "stream",
     "text": [
      "Answer: 24,000 square feet\n",
      "Score: 0.8882282972335815\n"
     ]
    }
   ],
   "source": [
    "# sample 2\n",
    "file = open('../data/scrapped/branchburg_sample2.txt', 'r')\n",
    "context = ' '.join(file.readlines())\n",
    "\n",
    "question = \"What is the minimun lot area requirement?\"\n",
    "\n",
    "result = question_answering(question=question, context=context)\n",
    "print(\"Answer:\", result['answer'])\n",
    "print(\"Score:\", result['score'])"
   ]
  },
  {
   "cell_type": "code",
   "execution_count": 54,
   "id": "8f0ba3fa",
   "metadata": {},
   "outputs": [
    {
     "data": {
      "text/plain": [
       "{'score': 0.8882282972335815,\n",
       " 'start': 2740,\n",
       " 'end': 2758,\n",
       " 'answer': '24,000 square feet'}"
      ]
     },
     "execution_count": 54,
     "metadata": {},
     "output_type": "execute_result"
    }
   ],
   "source": [
    "result"
   ]
  },
  {
   "cell_type": "code",
   "execution_count": null,
   "id": "db195a1d",
   "metadata": {},
   "outputs": [],
   "source": []
  },
  {
   "cell_type": "code",
   "execution_count": 49,
   "id": "db95aae8",
   "metadata": {},
   "outputs": [
    {
     "name": "stdout",
     "output_type": "stream",
     "text": [
      "Answer: forty thousand square feet\n",
      "Score: 0.9440544843673706\n"
     ]
    }
   ],
   "source": [
    "# sample 3\n",
    "file = open('../data/scrapped/worcester_sample1.txt', 'r')\n",
    "context = ' '.join(file.readlines())\n",
    "\n",
    "question = \"What is the minimun lot area requirement for family homes?\"\n",
    "\n",
    "result = question_answering(question=question, context=context)\n",
    "print(\"Answer:\", result['answer'])\n",
    "print(\"Score:\", result['score'])"
   ]
  },
  {
   "cell_type": "code",
   "execution_count": 52,
   "id": "c9122f92",
   "metadata": {},
   "outputs": [
    {
     "name": "stdout",
     "output_type": "stream",
     "text": [
      "Answer: fifty feet\n",
      "Score: 0.6894595623016357\n"
     ]
    }
   ],
   "source": [
    "# sample 3\n",
    "file = open('../data/scrapped/worcester_sample1.txt', 'r')\n",
    "context = ' '.join(file.readlines())\n",
    "\n",
    "question = \"What is the maximum density?\"\n",
    "\n",
    "result = question_answering(question=question, context=context)\n",
    "print(\"Answer:\", result['answer'])\n",
    "print(\"Score:\", result['score'])"
   ]
  },
  {
   "cell_type": "code",
   "execution_count": null,
   "id": "19eeb5a6",
   "metadata": {},
   "outputs": [],
   "source": []
  },
  {
   "cell_type": "code",
   "execution_count": 51,
   "id": "d53b832f",
   "metadata": {},
   "outputs": [],
   "source": [
    "# context: e.g. this town has ~500 sq.feet on average \n",
    "# does it help?"
   ]
  },
  {
   "cell_type": "code",
   "execution_count": null,
   "id": "ef21007a",
   "metadata": {},
   "outputs": [],
   "source": []
  },
  {
   "cell_type": "code",
   "execution_count": null,
   "id": "1f0bb97e-04fd-4317-8a6d-b81a72e874f9",
   "metadata": {},
   "outputs": [],
   "source": []
  },
  {
   "cell_type": "code",
   "execution_count": 12,
   "id": "ca8a5321-4967-4ab1-a731-3d9cd4353d01",
   "metadata": {},
   "outputs": [],
   "source": [
    "import pickle\n",
    "\n",
    "%run ../src/tree_spider.py\n",
    "%run ../src/utils.py"
   ]
  },
  {
   "cell_type": "code",
   "execution_count": 14,
   "id": "8edad2fd-7a9e-4060-a3bd-39cb768969ab",
   "metadata": {},
   "outputs": [],
   "source": [
    "# all_answeres = []\n",
    "# for i in range(100):\n",
    "#     ts = pickle.load(open('../data/scrapped/pickles_ts/' + str(i) + '.pkl', 'rb'))\n",
    "#     all_leaf_doc = []\n",
    "#     def find_leaf(node):\n",
    "#         if node.is_leaf:\n",
    "#             all_leaf_doc.append({\n",
    "#                 'title': node.title,\n",
    "#                 'text': node.text_content\n",
    "#             } )\n",
    "#         else:\n",
    "#             for child in node.children:\n",
    "#                 find_leaf(child)\n",
    "#     find_leaf(ts.root_node)\n",
    "#     if len(all_leaf_doc) == 0:\n",
    "#         print('no leaf on:', i)\n",
    "#         continue\n",
    "\n",
    "#     context = '\\n'.join([doc['text'] for doc in all_leaf_doc])\n",
    "\n",
    "#     question = \"How many different zoning districts are there?\"\n",
    "\n",
    "#     result = question_answering(question=question, context=context)\n",
    "#     print(\"Answer:\", result['answer'])\n",
    "#     print(\"Score:\", result['score'])\n",
    "#     all_answeres.append(result)"
   ]
  },
  {
   "cell_type": "code",
   "execution_count": null,
   "id": "9175d803-8a8d-46f5-9a25-73300aa0e3c8",
   "metadata": {},
   "outputs": [],
   "source": []
  }
 ],
 "metadata": {
  "kernelspec": {
   "display_name": "Python 3 (ipykernel)",
   "language": "python",
   "name": "python3"
  },
  "language_info": {
   "codemirror_mode": {
    "name": "ipython",
    "version": 3
   },
   "file_extension": ".py",
   "mimetype": "text/x-python",
   "name": "python",
   "nbconvert_exporter": "python",
   "pygments_lexer": "ipython3",
   "version": "3.8.2"
  }
 },
 "nbformat": 4,
 "nbformat_minor": 5
}
