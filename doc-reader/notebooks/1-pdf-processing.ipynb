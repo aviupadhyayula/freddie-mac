{
 "cells": [
  {
   "cell_type": "markdown",
   "id": "9aa27822",
   "metadata": {},
   "source": [
    "# 1 Processing PDFs (archived)\n",
    "- Package used: PyPDF2\n",
    "- Main method used: \n",
    "    - getPage\n",
    "    - extractText\n",
    "    - numPages (it's an attribute)\n",
    "- More examples: https://github.com/mstamy2/PyPDF2/blob/master/Sample_Code/basic_features.py\n",
    "- **Note: This notebook is reference only, to show who to open a pdf with python code**"
   ]
  },
  {
   "cell_type": "code",
   "execution_count": 1,
   "id": "e86e2cf5",
   "metadata": {},
   "outputs": [],
   "source": [
    "import PyPDF2\n",
    "# from tqdm import tqdm"
   ]
  },
  {
   "cell_type": "markdown",
   "id": "6e836e79",
   "metadata": {},
   "source": [
    "- Carroll"
   ]
  },
  {
   "cell_type": "code",
   "execution_count": 16,
   "id": "69671d10",
   "metadata": {},
   "outputs": [
    {
     "name": "stdout",
     "output_type": "stream",
     "text": [
      "158\n"
     ]
    }
   ],
   "source": [
    "carroll = open('../data/md/Carroll.pdf', 'rb')\n",
    "pdfReader = PyPDF2.PdfFileReader(carroll)\n",
    "print(pdfReader.numPages)"
   ]
  },
  {
   "cell_type": "code",
   "execution_count": 22,
   "id": "569bbc43",
   "metadata": {},
   "outputs": [
    {
     "name": "stdout",
     "output_type": "stream",
     "text": [
      "12\n",
      "17\n",
      "30\n",
      "35\n",
      "62\n",
      "65\n",
      "69\n",
      "72\n",
      "74\n",
      "77\n",
      "102\n",
      "118\n"
     ]
    }
   ],
   "source": [
    "for page_idx in range(pdfReader.numPages):\n",
    "    pageObj = pdfReader.getPage(page_idx)\n",
    "    text = pageObj.extractText().lower()\n",
    "    text = text.replace('\\n-\\n', '-')\n",
    "    #if 'dwellings' in text and 'family' in text and 'residence' in text:\n",
    "    #    print(page_idx)\n",
    "    if 'minimum' in text and ' lot' in text and 'residence' in text:\n",
    "        print(page_idx)"
   ]
  },
  {
   "cell_type": "code",
   "execution_count": 23,
   "id": "a6e9bb20",
   "metadata": {},
   "outputs": [],
   "source": [
    "# pageObj = pdfReader.getPage(65)\n",
    "# print(pageObj.extractText())"
   ]
  },
  {
   "cell_type": "code",
   "execution_count": 30,
   "id": "9fac34ab",
   "metadata": {},
   "outputs": [
    {
     "name": "stdout",
     "output_type": "stream",
     "text": [
      "932\n"
     ]
    }
   ],
   "source": [
    "calvert = open('../data/md/Calvert.pdf', 'rb')\n",
    "pdfReader = PyPDF2.PdfFileReader(calvert)\n",
    "print(pdfReader.numPages)"
   ]
  },
  {
   "cell_type": "code",
   "execution_count": 32,
   "id": "4b0edc34",
   "metadata": {},
   "outputs": [
    {
     "name": "stderr",
     "output_type": "stream",
     "text": [
      " 58%|█████████████████▍            | 540/932 [00:03<00:03, 125.51it/s]"
     ]
    },
    {
     "name": "stdout",
     "output_type": "stream",
     "text": [
      "526\n"
     ]
    },
    {
     "name": "stderr",
     "output_type": "stream",
     "text": [
      "100%|██████████████████████████████| 932/932 [00:06<00:00, 134.31it/s]\n"
     ]
    }
   ],
   "source": [
    "for page_idx in tqdm(range(pdfReader.numPages)):\n",
    "    pageObj = pdfReader.getPage(page_idx)\n",
    "    text = pageObj.extractText().lower()\n",
    "    text = text.replace('\\n-\\n', '-')\n",
    "    #if 'dwellings' in text and 'family' in text and 'residence' in text:\n",
    "    #    print(page_idx)\n",
    "    if 'dwelling' in text and 'residential' in text:\n",
    "        print(page_idx)"
   ]
  },
  {
   "cell_type": "code",
   "execution_count": null,
   "id": "93807529",
   "metadata": {},
   "outputs": [],
   "source": [
    "# pageObj = pdfReader.getPage(65)\n",
    "# print(pageObj.extractText())"
   ]
  },
  {
   "cell_type": "code",
   "execution_count": null,
   "id": "d71d2db1",
   "metadata": {},
   "outputs": [],
   "source": []
  }
 ],
 "metadata": {
  "kernelspec": {
   "display_name": "Python 3 (ipykernel)",
   "language": "python",
   "name": "python3"
  },
  "language_info": {
   "codemirror_mode": {
    "name": "ipython",
    "version": 3
   },
   "file_extension": ".py",
   "mimetype": "text/x-python",
   "name": "python",
   "nbconvert_exporter": "python",
   "pygments_lexer": "ipython3",
   "version": "3.8.2"
  }
 },
 "nbformat": 4,
 "nbformat_minor": 5
}
