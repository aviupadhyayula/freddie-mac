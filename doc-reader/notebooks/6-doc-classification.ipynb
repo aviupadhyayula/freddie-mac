{
 "cells": [
  {
   "cell_type": "markdown",
   "id": "24c2de93",
   "metadata": {},
   "source": [
    "# Doc Classification\n",
    "- This notebook is about doc-classification (classifying whether or not a sub-section is zoning-related)\n",
    "- Part 1: matching regex zoning code (see if regex pattern appeared in a zoning document)\n",
    "- Part 2: query methods (a little bit technical, not working too well)\n",
    "    - 2.1 bm25 score\n",
    "    - 2.2 keybert for keywords\n",
    "- Part 3: spacy module (under-construction)"
   ]
  },
  {
   "cell_type": "code",
   "execution_count": 1,
   "id": "c4f94a72-3c25-4bca-a41f-e3d7605b4472",
   "metadata": {},
   "outputs": [],
   "source": [
    "import pandas as pd\n",
    "import numpy as np\n",
    "import seaborn as sns\n",
    "from tqdm import tqdm\n",
    "import re\n",
    "import pickle\n",
    "\n",
    "# import whapi\n",
    "# from fuzzywuzzy import fuzz\n",
    "# from fuzzywuzzy import process\n",
    "\n",
    "import rank_bm25\n",
    "\n",
    "from nltk.stem import WordNetLemmatizer\n",
    "from nltk.tokenize import word_tokenize\n",
    "from nltk.corpus import stopwords\n",
    "stopwords = stopwords.words('english')"
   ]
  },
  {
   "cell_type": "code",
   "execution_count": 168,
   "id": "d73d932a-4cf3-488c-b284-46932ca928ff",
   "metadata": {},
   "outputs": [],
   "source": [
    "def clean_sent(sent):\n",
    "    '''\n",
    "    Remove special characters and tokenize the sentence\n",
    "    '''\n",
    "    sent = sent.lower()\n",
    "    # remove special chars\n",
    "    sent = re.sub(\"[^0-9a-zA-Z]\", \" \", sent)\n",
    "    sent = re.sub(\" +\", \" \", sent)\n",
    "    \n",
    "    # remove stop words\n",
    "    tokens = [w for w in word_tokenize(sent) if w not in stopwords]\n",
    "    return tokens\n",
    "\n",
    "def lemmatize(tokens):\n",
    "    '''\n",
    "    Lemmatize the tokens in the sentence\n",
    "    '''\n",
    "    lemmatizer = WordNetLemmatizer()\n",
    "    tokens = [lemmatizer.lemmatize(w) for w in tokens]\n",
    "    return tokens\n",
    "\n",
    "def normalize(arr):\n",
    "    mean = np.mean(arr)\n",
    "    std = np.std(arr)\n",
    "    arr = np.array(arr)\n",
    "    arr = (arr - mean) / std\n",
    "    arr = (arr + 1) / 2\n",
    "    return arr"
   ]
  },
  {
   "cell_type": "code",
   "execution_count": 169,
   "id": "e36e98c2-c05d-48a3-8a0a-69a9fd13094c",
   "metadata": {},
   "outputs": [],
   "source": [
    "def bm25_scores(docs, query):\n",
    "\n",
    "    # tokenize query\n",
    "    tokenized_query = lemmatize(clean_sent(query))\n",
    "    \n",
    "    # title-based bm25 construction\n",
    "    corpus_titles = [r['title'] for r in docs]\n",
    "    tokenized_titles = [lemmatize(clean_sent(doc)) for doc in corpus_titles]\n",
    "    bm25_title = rank_bm25.BM25Okapi(tokenized_titles)\n",
    "    scores_title = bm25_title.get_scores(tokenized_query)\n",
    "    scores_title = normalize(scores_title)\n",
    "    \n",
    "    # intro-based bm25 construction\n",
    "    corpus_content = [r['text'] for r in docs]\n",
    "    tokenized_content = [lemmatize(clean_sent(doc)) for doc in corpus_content]\n",
    "    bm25_content = rank_bm25.BM25Okapi(tokenized_content)\n",
    "    scores_content = bm25_content.get_scores(tokenized_query)\n",
    "    scores_content = normalize(scores_content)\n",
    "    \n",
    "    for i in range(len(docs)):\n",
    "        docs[i]['scores_content'] = scores_content[i]\n",
    "        docs[i]['scores_title'] = scores_title[i]\n",
    "        docs[i]['score'] = scores_content[i] + scores_title[i] #scoring(query_results[i])\n",
    "    return docs"
   ]
  },
  {
   "cell_type": "code",
   "execution_count": 170,
   "id": "a3dd50c2-0351-4896-a2a2-c2ad87d395c5",
   "metadata": {},
   "outputs": [],
   "source": [
    "%run ../src/tree_spider.py\n",
    "%run ../src/utils.py"
   ]
  },
  {
   "cell_type": "markdown",
   "id": "3d420e39-3a07-428e-b6c1-a397f8c6aa90",
   "metadata": {},
   "source": [
    "# 1. Zoning district - regex matching"
   ]
  },
  {
   "cell_type": "code",
   "execution_count": 99,
   "id": "1ff7cd28-03cc-468f-a67d-0ed06bea62e0",
   "metadata": {},
   "outputs": [],
   "source": [
    "# md_zoning_codes.zoning.values"
   ]
  },
  {
   "cell_type": "code",
   "execution_count": 60,
   "id": "7c217769-8d4e-4155-86fc-718ee982a1c5",
   "metadata": {},
   "outputs": [],
   "source": [
    "import string\n",
    "string_printable_set = set(list(string.printable))"
   ]
  },
  {
   "cell_type": "code",
   "execution_count": 61,
   "id": "302775f0-9afe-4774-b43c-3e57e7b26377",
   "metadata": {},
   "outputs": [],
   "source": [
    "def find_zoning_district_code(all_text):\n",
    "    all_keys = {}\n",
    "    key_2_text = {}\n",
    "    all_match = list(re.finditer('[A-Z] *-[0-9]', all_text))\n",
    "    \n",
    "    for match in all_match:\n",
    "        key = match.group()\n",
    "        if key not in all_keys.keys():\n",
    "            all_keys[key] = 1\n",
    "        else:\n",
    "            all_keys[key] += 1\n",
    "    \n",
    "    less_than_2 = 0\n",
    "    text_around_dict = {}\n",
    "    for match in all_match:\n",
    "        span = match.span()\n",
    "        key = match.group()\n",
    "        if all_keys[key] < 2:\n",
    "            less_than_2 += 1\n",
    "            continue\n",
    "        text_around = all_text[max(0, span[0] - 30): min(span[1] + 30, len(all_text))]\n",
    "        text_around = text_around.lower()\n",
    "        text_around = ''.join([c for c in text_around if c in string_printable_set])\n",
    "        text_around = re.sub('\\n', ' ', text_around)\n",
    "        text_around = re.sub('\\t', ' ', text_around)\n",
    "        text_around = re.sub(' +', ' ', text_around).strip()\n",
    "        if key in text_around_dict.keys():\n",
    "            text_around_dict[key].append(text_around)\n",
    "        else:\n",
    "            text_around_dict[key] = [text_around]\n",
    "    #tmp_keys, key_counts = np.unique(all_keys, return_counts = True)\n",
    "    for key in key_2_text.keys():\n",
    "        text, text_counts = np.unique(key_2_text[key], return_counts = True)\n",
    "        key_2_text[key] = list(zip(text, text_counts))\n",
    "    all_keys, key_count = list(all_keys.keys()), list(all_keys.values())\n",
    "    result = ({\n",
    "        'idx': i,\n",
    "        'keys_lst': list(zip(all_keys, key_count)),\n",
    "        # 'keys_texts': key_2_text,\n",
    "        'text_around_dict': text_around_dict,\n",
    "        'keys_count': len(all_keys),\n",
    "        'more_than_2_counts': sum(np.array(key_count) >= 2)\n",
    "    })\n",
    "    return result"
   ]
  },
  {
   "cell_type": "code",
   "execution_count": 70,
   "id": "02d47425-d472-4462-997b-fe4c77a0afcb",
   "metadata": {},
   "outputs": [],
   "source": [
    "# s = 'hi, i am R-1, hi, F-2,syo J-0'\n",
    "# for i in re.finditer('[A-Z] *-[0-9]', s):\n",
    "#     print(i)\n",
    "#     print(i.span())\n",
    "#     print(i.group())"
   ]
  },
  {
   "cell_type": "code",
   "execution_count": 76,
   "id": "d4c4d8a5-08f0-49e0-b0e5-a7e0737818b0",
   "metadata": {},
   "outputs": [
    {
     "name": "stderr",
     "output_type": "stream",
     "text": [
      " 77%|████████████████████████▋       | 77/100 [00:00<00:00, 86.53it/s]"
     ]
    },
    {
     "name": "stdout",
     "output_type": "stream",
     "text": [
      "no leaf on: 67\n"
     ]
    },
    {
     "name": "stderr",
     "output_type": "stream",
     "text": [
      "100%|███████████████████████████████| 100/100 [00:01<00:00, 77.80it/s]\n"
     ]
    }
   ],
   "source": [
    "zoning_code = []\n",
    "for i in tqdm(range(100)):\n",
    "    ts = pickle.load(open('../data/scrapped/pickles_ts/' + str(i) + '.pkl', 'rb'))\n",
    "    all_leaf_doc = []\n",
    "    city_name = all_meta_data['City/County'].values[i]\n",
    "    def find_leaf(node):\n",
    "        if node.is_leaf:\n",
    "            all_leaf_doc.append({\n",
    "                'title': node.title,\n",
    "                'text': node.text_content\n",
    "            } )\n",
    "        else:\n",
    "            for child in node.children:\n",
    "                find_leaf(child)\n",
    "    find_leaf(ts.root_node)\n",
    "    if len(all_leaf_doc) == 0:\n",
    "        print('no leaf on:', i)\n",
    "        continue\n",
    "    \n",
    "    all_text = '\\n'.join([doc['text'] for doc in all_leaf_doc])\n",
    "    result = find_zoning_district_code(all_text)\n",
    "    result['city'] = city_name\n",
    "    zoning_code.append(result)"
   ]
  },
  {
   "cell_type": "code",
   "execution_count": 77,
   "id": "22378f5e-485d-4217-9c21-2d05e1df2683",
   "metadata": {},
   "outputs": [],
   "source": [
    "# all_text"
   ]
  },
  {
   "cell_type": "code",
   "execution_count": 78,
   "id": "2a8074bf-f411-4887-80c1-b27315895d3e",
   "metadata": {},
   "outputs": [
    {
     "data": {
      "text/html": [
       "<div>\n",
       "<style scoped>\n",
       "    .dataframe tbody tr th:only-of-type {\n",
       "        vertical-align: middle;\n",
       "    }\n",
       "\n",
       "    .dataframe tbody tr th {\n",
       "        vertical-align: top;\n",
       "    }\n",
       "\n",
       "    .dataframe thead th {\n",
       "        text-align: right;\n",
       "    }\n",
       "</style>\n",
       "<table border=\"1\" class=\"dataframe\">\n",
       "  <thead>\n",
       "    <tr style=\"text-align: right;\">\n",
       "      <th></th>\n",
       "      <th>idx</th>\n",
       "      <th>keys_lst</th>\n",
       "      <th>text_around_dict</th>\n",
       "      <th>keys_count</th>\n",
       "      <th>more_than_2_counts</th>\n",
       "      <th>city</th>\n",
       "    </tr>\n",
       "  </thead>\n",
       "  <tbody>\n",
       "    <tr>\n",
       "      <th>0</th>\n",
       "      <td>0</td>\n",
       "      <td>[(B-2, 26), (C-1, 1), (M-1, 18), (R-1, 54), (R...</td>\n",
       "      <td>{'B-2': ['ach apartment number, such as b-210....</td>\n",
       "      <td>21</td>\n",
       "      <td>11</td>\n",
       "      <td>Alabaster</td>\n",
       "    </tr>\n",
       "    <tr>\n",
       "      <th>1</th>\n",
       "      <td>1</td>\n",
       "      <td>[(I-1, 1), (W-2, 9), (A-1, 3), (A-2, 4), (A-3,...</td>\n",
       "      <td>{'W-2': ['ederal income tax returns and w-2 fo...</td>\n",
       "      <td>23</td>\n",
       "      <td>16</td>\n",
       "      <td>Albertville</td>\n",
       "    </tr>\n",
       "    <tr>\n",
       "      <th>2</th>\n",
       "      <td>2</td>\n",
       "      <td>[(U-1, 25), (U-9, 7), (B-6, 1), (I-3, 3), (A-9...</td>\n",
       "      <td>{'U-1': ['aces. [[content]] [4, ord. u-1151-16...</td>\n",
       "      <td>7</td>\n",
       "      <td>5</td>\n",
       "      <td>Alexander City</td>\n",
       "    </tr>\n",
       "    <tr>\n",
       "      <th>3</th>\n",
       "      <td>3</td>\n",
       "      <td>[(L-1, 1), (B-1, 3), (W-2, 1), (F-2, 1), (R-2,...</td>\n",
       "      <td>{'B-1': ['on county surveyor's map no. b-1864 ...</td>\n",
       "      <td>23</td>\n",
       "      <td>9</td>\n",
       "      <td>Aliceville</td>\n",
       "    </tr>\n",
       "    <tr>\n",
       "      <th>4</th>\n",
       "      <td>4</td>\n",
       "      <td>[(C-2, 27), (C-3, 16), (M-1, 17), (M-2, 15), (...</td>\n",
       "      <td>{'C-2': ['s within the central trading (c-2) d...</td>\n",
       "      <td>10</td>\n",
       "      <td>8</td>\n",
       "      <td>Andalusia</td>\n",
       "    </tr>\n",
       "    <tr>\n",
       "      <th>5</th>\n",
       "      <td>5</td>\n",
       "      <td>[(A-1, 10), (A-2, 3), (A-3, 3), (A-4, 4), (A-5...</td>\n",
       "      <td>{'A-1': ['re footage assembly group a - a-1, a...</td>\n",
       "      <td>33</td>\n",
       "      <td>17</td>\n",
       "      <td>Anniston</td>\n",
       "    </tr>\n",
       "    <tr>\n",
       "      <th>6</th>\n",
       "      <td>6</td>\n",
       "      <td>[(T-2, 2), (A-2, 3), (L-1, 1)]</td>\n",
       "      <td>{'T-2': ['urvey of the site. (must meet t-2 ac...</td>\n",
       "      <td>3</td>\n",
       "      <td>2</td>\n",
       "      <td>Arab</td>\n",
       "    </tr>\n",
       "    <tr>\n",
       "      <th>7</th>\n",
       "      <td>7</td>\n",
       "      <td>[(L-1, 1)]</td>\n",
       "      <td>{}</td>\n",
       "      <td>1</td>\n",
       "      <td>0</td>\n",
       "      <td>Athens</td>\n",
       "    </tr>\n",
       "    <tr>\n",
       "      <th>8</th>\n",
       "      <td>8</td>\n",
       "      <td>[(L-1, 2)]</td>\n",
       "      <td>{'L-1': ['ead, federal specification qq-l-156,...</td>\n",
       "      <td>1</td>\n",
       "      <td>1</td>\n",
       "      <td>Atmore</td>\n",
       "    </tr>\n",
       "    <tr>\n",
       "      <th>9</th>\n",
       "      <td>9</td>\n",
       "      <td>[(M-2, 1), (L-1, 1), (A-2, 1)]</td>\n",
       "      <td>{}</td>\n",
       "      <td>3</td>\n",
       "      <td>0</td>\n",
       "      <td>Auburn</td>\n",
       "    </tr>\n",
       "  </tbody>\n",
       "</table>\n",
       "</div>"
      ],
      "text/plain": [
       "   idx                                           keys_lst  \\\n",
       "0    0  [(B-2, 26), (C-1, 1), (M-1, 18), (R-1, 54), (R...   \n",
       "1    1  [(I-1, 1), (W-2, 9), (A-1, 3), (A-2, 4), (A-3,...   \n",
       "2    2  [(U-1, 25), (U-9, 7), (B-6, 1), (I-3, 3), (A-9...   \n",
       "3    3  [(L-1, 1), (B-1, 3), (W-2, 1), (F-2, 1), (R-2,...   \n",
       "4    4  [(C-2, 27), (C-3, 16), (M-1, 17), (M-2, 15), (...   \n",
       "5    5  [(A-1, 10), (A-2, 3), (A-3, 3), (A-4, 4), (A-5...   \n",
       "6    6                     [(T-2, 2), (A-2, 3), (L-1, 1)]   \n",
       "7    7                                         [(L-1, 1)]   \n",
       "8    8                                         [(L-1, 2)]   \n",
       "9    9                     [(M-2, 1), (L-1, 1), (A-2, 1)]   \n",
       "\n",
       "                                    text_around_dict  keys_count  \\\n",
       "0  {'B-2': ['ach apartment number, such as b-210....          21   \n",
       "1  {'W-2': ['ederal income tax returns and w-2 fo...          23   \n",
       "2  {'U-1': ['aces. [[content]] [4, ord. u-1151-16...           7   \n",
       "3  {'B-1': ['on county surveyor's map no. b-1864 ...          23   \n",
       "4  {'C-2': ['s within the central trading (c-2) d...          10   \n",
       "5  {'A-1': ['re footage assembly group a - a-1, a...          33   \n",
       "6  {'T-2': ['urvey of the site. (must meet t-2 ac...           3   \n",
       "7                                                 {}           1   \n",
       "8  {'L-1': ['ead, federal specification qq-l-156,...           1   \n",
       "9                                                 {}           3   \n",
       "\n",
       "   more_than_2_counts            city  \n",
       "0                  11       Alabaster  \n",
       "1                  16     Albertville  \n",
       "2                   5  Alexander City  \n",
       "3                   9      Aliceville  \n",
       "4                   8       Andalusia  \n",
       "5                  17        Anniston  \n",
       "6                   2            Arab  \n",
       "7                   0          Athens  \n",
       "8                   1          Atmore  \n",
       "9                   0          Auburn  "
      ]
     },
     "execution_count": 78,
     "metadata": {},
     "output_type": "execute_result"
    }
   ],
   "source": [
    "zoning_code_df = pd.DataFrame(zoning_code)\n",
    "zoning_code_df.head(10)"
   ]
  },
  {
   "cell_type": "code",
   "execution_count": 79,
   "id": "ebd28814-bfb1-4651-b03e-824a7a7f19f1",
   "metadata": {},
   "outputs": [
    {
     "name": "stderr",
     "output_type": "stream",
     "text": [
      "/opt/anaconda3/envs/dsml/lib/python3.8/site-packages/seaborn/distributions.py:2619: FutureWarning: `distplot` is a deprecated function and will be removed in a future version. Please adapt your code to use either `displot` (a figure-level function with similar flexibility) or `histplot` (an axes-level function for histograms).\n",
      "  warnings.warn(msg, FutureWarning)\n"
     ]
    },
    {
     "data": {
      "text/plain": [
       "<AxesSubplot:ylabel='Density'>"
      ]
     },
     "execution_count": 79,
     "metadata": {},
     "output_type": "execute_result"
    },
    {
     "data": {
      "image/png": "[encoded data removed]",
      "text/plain": [
       "<Figure size 432x288 with 1 Axes>"
      ]
     },
     "metadata": {
      "needs_background": "light"
     },
     "output_type": "display_data"
    }
   ],
   "source": [
    "sns.distplot(zoning_code_df.keys_count.values)"
   ]
  },
  {
   "cell_type": "code",
   "execution_count": 80,
   "id": "6df91786-7401-494f-936d-21ffefa92db7",
   "metadata": {},
   "outputs": [
    {
     "name": "stderr",
     "output_type": "stream",
     "text": [
      "/opt/anaconda3/envs/dsml/lib/python3.8/site-packages/seaborn/distributions.py:2619: FutureWarning: `distplot` is a deprecated function and will be removed in a future version. Please adapt your code to use either `displot` (a figure-level function with similar flexibility) or `histplot` (an axes-level function for histograms).\n",
      "  warnings.warn(msg, FutureWarning)\n"
     ]
    },
    {
     "data": {
      "text/plain": [
       "<AxesSubplot:ylabel='Density'>"
      ]
     },
     "execution_count": 80,
     "metadata": {},
     "output_type": "execute_result"
    },
    {
     "data": {
      "image/png": "[encoded data removed]",
      "text/plain": [
       "<Figure size 432x288 with 1 Axes>"
      ]
     },
     "metadata": {
      "needs_background": "light"
     },
     "output_type": "display_data"
    }
   ],
   "source": [
    "sns.distplot(zoning_code_df.more_than_2_counts.values)"
   ]
  },
  {
   "cell_type": "code",
   "execution_count": 81,
   "id": "169307c6-7e4f-4f65-8850-ddc51e33bd60",
   "metadata": {},
   "outputs": [],
   "source": [
    "# all_text = '\\n'.join([doc['text'] for doc in all_leaf_doc])\n",
    "# np.unique(re.findall('[A-Z] *-[0-9]', all_text))"
   ]
  },
  {
   "cell_type": "code",
   "execution_count": 82,
   "id": "4728e047-7194-4c39-97bd-4c650255b07a",
   "metadata": {},
   "outputs": [],
   "source": [
    "zoning_code_df.to_csv('../data/zoning_code_df.csv', index = False)"
   ]
  },
  {
   "cell_type": "code",
   "execution_count": 186,
   "id": "86427c9a-888c-4d07-8e17-5e2171499c2f",
   "metadata": {},
   "outputs": [
    {
     "data": {
      "text/plain": [
       "(32, 6)"
      ]
     },
     "execution_count": 186,
     "metadata": {},
     "output_type": "execute_result"
    }
   ],
   "source": [
    "zoning_code_df.query('keys_count < 5').shape"
   ]
  },
  {
   "cell_type": "code",
   "execution_count": 188,
   "id": "99790464-c264-48fa-a9c5-0c1fd725024d",
   "metadata": {},
   "outputs": [
    {
     "data": {
      "text/plain": [
       "(58, 6)"
      ]
     },
     "execution_count": 188,
     "metadata": {},
     "output_type": "execute_result"
    }
   ],
   "source": [
    "zoning_code_df.query('more_than_2_counts < 5').shape"
   ]
  },
  {
   "cell_type": "code",
   "execution_count": null,
   "id": "dc6efbcb-3b41-4e3a-a2c4-be4c5fba0455",
   "metadata": {},
   "outputs": [],
   "source": []
  },
  {
   "cell_type": "code",
   "execution_count": null,
   "id": "db4c9240-820c-49b1-a6b0-7fddaf621d88",
   "metadata": {},
   "outputs": [],
   "source": []
  },
  {
   "cell_type": "code",
   "execution_count": null,
   "id": "50f91643-d6e6-4a29-b111-ea0f6063e921",
   "metadata": {},
   "outputs": [],
   "source": []
  },
  {
   "cell_type": "markdown",
   "id": "1062fb70-d92b-4502-b0c8-34a1dba25650",
   "metadata": {},
   "source": [
    "# 2. Query Methods\n",
    "## 2.1 bm25 query"
   ]
  },
  {
   "cell_type": "code",
   "execution_count": 101,
   "id": "44b68e33-15de-4f95-83c0-acd7f3745c7b",
   "metadata": {},
   "outputs": [
    {
     "data": {
      "text/html": [
       "<div>\n",
       "<style scoped>\n",
       "    .dataframe tbody tr th:only-of-type {\n",
       "        vertical-align: middle;\n",
       "    }\n",
       "\n",
       "    .dataframe tbody tr th {\n",
       "        vertical-align: top;\n",
       "    }\n",
       "\n",
       "    .dataframe thead th {\n",
       "        text-align: right;\n",
       "    }\n",
       "</style>\n",
       "<table border=\"1\" class=\"dataframe\">\n",
       "  <thead>\n",
       "    <tr style=\"text-align: right;\">\n",
       "      <th></th>\n",
       "      <th>jurscode</th>\n",
       "      <th>county</th>\n",
       "      <th>muni</th>\n",
       "      <th>premcity</th>\n",
       "      <th>zoneauth</th>\n",
       "      <th>zoning</th>\n",
       "      <th>zoning_name</th>\n",
       "    </tr>\n",
       "  </thead>\n",
       "  <tbody>\n",
       "    <tr>\n",
       "      <th>0</th>\n",
       "      <td>KENT</td>\n",
       "      <td>Kent</td>\n",
       "      <td>Kent</td>\n",
       "      <td>KENT</td>\n",
       "      <td>COUNTY</td>\n",
       "      <td>AZD</td>\n",
       "      <td>Agricultural</td>\n",
       "    </tr>\n",
       "    <tr>\n",
       "      <th>1</th>\n",
       "      <td>MONT</td>\n",
       "      <td>Montgomery</td>\n",
       "      <td>Laytonsville</td>\n",
       "      <td>LAYTONSVILLE</td>\n",
       "      <td>MUNICIPALITY</td>\n",
       "      <td>A</td>\n",
       "      <td>Agricultural</td>\n",
       "    </tr>\n",
       "    <tr>\n",
       "      <th>2</th>\n",
       "      <td>TALB</td>\n",
       "      <td>Talbot</td>\n",
       "      <td>Trappe</td>\n",
       "      <td>TRAPPE</td>\n",
       "      <td>MUNICIPALITY</td>\n",
       "      <td>A</td>\n",
       "      <td>Agricultural</td>\n",
       "    </tr>\n",
       "    <tr>\n",
       "      <th>3</th>\n",
       "      <td>WICO</td>\n",
       "      <td>Wicomico</td>\n",
       "      <td>Wicomico</td>\n",
       "      <td>WICOMICO</td>\n",
       "      <td>COUNTY</td>\n",
       "      <td>A-1</td>\n",
       "      <td>Agricultural - Rural</td>\n",
       "    </tr>\n",
       "    <tr>\n",
       "      <th>4</th>\n",
       "      <td>HARF</td>\n",
       "      <td>Harford</td>\n",
       "      <td>Harford</td>\n",
       "      <td>HARFORD</td>\n",
       "      <td>COUNTY</td>\n",
       "      <td>AG</td>\n",
       "      <td>Agricultural (Conventional Residential)</td>\n",
       "    </tr>\n",
       "  </tbody>\n",
       "</table>\n",
       "</div>"
      ],
      "text/plain": [
       "  jurscode      county          muni      premcity      zoneauth zoning  \\\n",
       "0     KENT        Kent          Kent          KENT        COUNTY    AZD   \n",
       "1     MONT  Montgomery  Laytonsville  LAYTONSVILLE  MUNICIPALITY      A   \n",
       "2     TALB      Talbot        Trappe        TRAPPE  MUNICIPALITY      A   \n",
       "3     WICO    Wicomico      Wicomico      WICOMICO        COUNTY   A-1    \n",
       "4     HARF     Harford       Harford       HARFORD        COUNTY     AG   \n",
       "\n",
       "                               zoning_name  \n",
       "0                             Agricultural  \n",
       "1                             Agricultural  \n",
       "2                             Agricultural  \n",
       "3                     Agricultural - Rural  \n",
       "4  Agricultural (Conventional Residential)  "
      ]
     },
     "execution_count": 101,
     "metadata": {},
     "output_type": "execute_result"
    }
   ],
   "source": [
    "md_zoning_codes = pd.read_csv('../data/md_zoning_codes.csv')\n",
    "md_zoning_codes.head()"
   ]
  },
  {
   "cell_type": "code",
   "execution_count": 197,
   "id": "38b99a18-40bd-4f98-a188-09760352b841",
   "metadata": {},
   "outputs": [
    {
     "data": {
      "text/plain": [
       "array(['AZD', 'A', 'A-1\\xa0', 'AG', 'A (R )', 'AC', 'AC-RCA', 'A-1',\n",
       "       'A-2', 'AR', 'AT', 'A-R', 'R-3', 'A.S.', 'NC-20', 'BSC', 'CBA',\n",
       "       'CR', 'CBT', 'CC', 'CMPD', 'CC-MU', 'C-1', 'C', 'C3', 'C1', 'CM',\n",
       "       'C-M ', 'C2', 'CR0.5', 'CR0.7', 'CR1.0', 'CR1.2', 'CR1.5', 'CR1.7',\n",
       "       'CR2.0', 'CR2.2', 'CR2.5', 'CR2.7', 'CR3.0', 'CR3.5', 'CR4.0',\n",
       "       'CR5.0', 'CR5.2', 'CR6.0', 'CR6.2', 'CR7.2', 'CR8.0', 'CRN1.0',\n",
       "       'CRN0.2', 'CRN0.7', 'CRT0.2', 'CRT0.7', 'CRT1.0', 'CRT1.2',\n",
       "       'CRT1.7', 'CRT2.0', 'CRT2.2', 'CRT3.0', 'CRT4.0', 'C.C.C', 'C.R.',\n",
       "       'C.T', 'CRN', 'CRT', 'C-2', 'L-A-C', 'M-A-C', 'R-L', 'R-M', 'R-S',\n",
       "       'R-U', 'V-L', 'V-M', 'B1', 'CER', 'CMR', 'CRR', 'CMX', 'CAC', 'CD',\n",
       "       'CMU', 'CP', 'CAR', 'D.R.1', 'D.R.10.5', 'D.R.16', 'D.R.2',\n",
       "       'D.R.3.5', 'D.R.5.5', 'R-2', 'R-4', 'R-1A', 'R-1B', 'R-1C', 'R-1D',\n",
       "       'R-1E', 'R-1', 'DB', 'DMX', 'C-5', 'DBO', 'DR', 'R-5', 'O-EOD',\n",
       "       'EC', 'EMU', 'EC ', 'R.C.8', 'O-HIS', 'E', 'E-1', 'FFD', 'C-3',\n",
       "       'R3', 'R4', 'R3-NC', 'R3-NC2', 'R3-R', 'R4-R', 'GNC', 'GPRN',\n",
       "       'GVC', 'R-HD', 'RM', 'R-12', 'R-16', 'R-20', 'R-H', 'RH', 'HC',\n",
       "       'HO', 'HVC', 'HVR', 'H', 'HI', 'HVG', 'I ', 'LDA', 'IMU-1', 'I.M',\n",
       "       'IV', 'IVCA', 'LR1', 'LR2', 'LC', 'LDR', 'R-A', 'R-LD', 'RL', 'MH',\n",
       "       'MC', 'M', 'Mrec', 'MRC', 'M-A-R', 'R-6', 'R-8', 'R-18', 'R-90',\n",
       "       'R-90 C', 'RP-T', 'ME', 'R-MD', 'M43', 'MEA', 'MR', 'R-2 ', 'MX',\n",
       "       'MXD-3', 'MXD-6', 'MXD', 'MU', 'MXB', 'MXD-C', 'MXC', 'M-X-C',\n",
       "       'MXCD', 'MXD-E', 'MXE', 'M-U-I', 'MXN', 'MXNC', 'MXD-R', 'M-U-TC',\n",
       "       'MXD-T', 'MXTD', 'MXT', 'M-X-T', 'R-10 ', 'R-10A', 'R-30', 'R-30C',\n",
       "       'R-18C', 'R-10', 'PR-MUL', 'NVC', 'C-1-E', 'C-1-VC', 'NC', 'SR',\n",
       "       'C-1 ', 'NCX', 'NC-15', 'NC-5', 'NC-8', 'NC-1', 'NC-2', 'N-MU',\n",
       "       'NT', 'F-R1A', 'F-R1AA', 'F-R1B', 'F-R1C', 'F-R1D', 'F-R1E',\n",
       "       'F-R2', 'F-R3', 'F-R4', 'F-W1', 'NAR', 'OT', 'OR-1', 'OR-2', 'OP',\n",
       "       'OR', 'R-80', 'R-55', 'R-35', 'O-S', 'PD2', 'PD3', 'PD4', 'PD5',\n",
       "       'PD7', 'PD9', 'PD11', 'PD13', 'PD15', 'PD18', 'PD22', 'PD25',\n",
       "       'PD28', 'PD35', 'PD44', 'PD60', 'PD68', 'PD75', 'PD88', 'PD100',\n",
       "       'PDD', 'PMH', 'TOD', 'PRD', 'PN', 'PSC', 'PUD-V', 'PUD-R', 'PUD-X',\n",
       "       'PUD-MHP', 'PUDR', 'PUD', 'PD', 'P', 'PM', 'PM2', 'RB', 'P-I',\n",
       "       'R-O-S', 'R-40,000', 'R-7,500', 'R-20,000', 'R-10,000', 'R1',\n",
       "       'R10', 'R15', 'R2', 'R22', 'R5', 'R-1 ', 'R-15', 'R-5A', 'R-8A',\n",
       "       'RR-5A', 'R-O', 'R-O-A', 'R', 'R-B', 'R-1-C', 'RE-2', 'RE-2C',\n",
       "       'RE-1', 'R-200', 'R-60', 'R-40', 'R-7A', 'R-10M', 'RD', 'RG',\n",
       "       'RIP', 'RLD', 'RMU', 'RMX', 'RMD10', 'RMD15', 'RMD25', 'RO',\n",
       "       'PR-1/2', 'PR-1/3', 'SF ', 'RS', 'PR-3/4', 'RT-6.0', 'RT-8.0',\n",
       "       'RT-10.0', 'RT-12.5', 'RT-15.0', 'TLD', 'TMD', 'THD', 'RT', 'RU',\n",
       "       'R-V', 'R21', 'R8', 'R.A.E.1', 'R.A.E.2', 'RL-T', 'RMED', 'RMOD',\n",
       "       'RNC', 'R-R', 'R-A-15', 'R-APT', 'R-ED', 'R-H-ED', 'R-MH', 'R-SI',\n",
       "       'R-SA-8', 'R-SC', 'R-VH', 'R-7_5', 'R-E', 'RC', 'R.C.2', 'R.C.C.',\n",
       "       'R.C.20', 'R.C.50', 'R.C.3', 'R.C.5', 'R.C.4', 'RCD', 'R.C.7',\n",
       "       'R-7', 'R-9', 'RA', 'R.C.6', 'RCL', 'P-RD', 'RPD', 'RR', 'RR-C',\n",
       "       'RSC', 'RV', 'SLC', 'R150', 'R200', 'R40', 'R400', 'R60', 'R75',\n",
       "       'R90', 'SF', 'R1-A', 'R1-B', 'R2-NC', 'R-3 ', 'SAR', 'C2A', 'C2P',\n",
       "       'C1A', 'SHVC', 'SMPD', 'SE', 'ST', 'TC', 'TCC', 'B-1', 'TC-D',\n",
       "       'TC-H', 'TC- L', 'TC-O', 'TC-PF', 'TC- S', 'TC- SL', 'TMX', 'TR',\n",
       "       'TT', 'R-T', 'TDX', 'TND', 'PTR- 2+', 'TOD-2', 'TOD-3', 'TOD-4',\n",
       "       'TOD-1', 'UR', 'R1CCRC', 'R2CCRC', 'R3CCRC', 'R4CCRC', 'R1HFE',\n",
       "       'R2HFE', 'R3HFE', 'R4HFE', 'R1PRD', 'R2PRD', 'R3PRD', 'R4PRD',\n",
       "       'R1COS', 'R2COS', 'R3COS', 'R4COS', 'V', 'VB', 'V-1', 'VC', 'VMX',\n",
       "       'V-2', 'VH', 'VM', 'VN', 'VR', 'WD', 'W-1 ', 'WCD', 'WRC'],\n",
       "      dtype=object)"
      ]
     },
     "execution_count": 197,
     "metadata": {},
     "output_type": "execute_result"
    }
   ],
   "source": [
    "md_zoning_codes.zoning.unique()"
   ]
  },
  {
   "cell_type": "code",
   "execution_count": 193,
   "id": "04d0f7aa-5880-4e16-b3c2-8a564fdb80e1",
   "metadata": {},
   "outputs": [],
   "source": [
    "zoning_names_all_text = '\\n'.join(list(md_zoning_codes.zoning_name.unique()))\n",
    "zoning_names_all_text = lemmatize(clean_sent(zoning_names_all_text))"
   ]
  },
  {
   "cell_type": "code",
   "execution_count": 194,
   "id": "d4106b3c-24d6-46e9-a2e8-a933238d722c",
   "metadata": {},
   "outputs": [],
   "source": [
    "tokens, counts = np.unique(zoning_names_all_text, return_counts = True)\n",
    "token_2_count = dict(zip(tokens, counts / sum(counts)))"
   ]
  },
  {
   "cell_type": "code",
   "execution_count": 195,
   "id": "83ca0cf7-a21c-4d5c-ac8d-3163e1b0959d",
   "metadata": {},
   "outputs": [
    {
     "data": {
      "text/plain": [
       "array(['0', '000', '1', '10', '150', '15000', '16', '2', '200', '20000',\n",
       "       '21', '217800', '25', '3', '4', '40', '400', '43560', '5', '60',\n",
       "       '75', '8', '80', '8000', '87120', '90', 'acre', 'activity',\n",
       "       'agricultural', 'agriculture', 'apartment', 'area', 'attached',\n",
       "       'automotive', 'avg', 'bio', 'buffer', 'building', 'business',\n",
       "       'campus', 'care', 'center', 'central', 'character', 'chester',\n",
       "       'city', 'class', 'cluster', 'cmu', 'co', 'commercial', 'common',\n",
       "       'community', 'comprehensive', 'condominium', 'conservation',\n",
       "       'continuing', 'convenience', 'conventional', 'conversion',\n",
       "       'copmmercial', 'core', 'coridor', 'corridor', 'countryside',\n",
       "       'critical', 'data', 'deferral', 'density', 'design', 'detached',\n",
       "       'development', 'deveopment', 'district', 'downtown', 'dunkirk',\n",
       "       'dwelling', 'east', 'educational', 'efficiency', 'elderly',\n",
       "       'elevator', 'employment', 'enhancement', 'entertainment',\n",
       "       'environmental', 'eodenton', 'estate', 'existing', 'exposition',\n",
       "       'extraction', 'family', 'farm', 'five', 'floating', 'forest',\n",
       "       'fredrick', 'gateway', 'general', 'grasonville', 'half', 'hamlet',\n",
       "       'high', 'higher', 'historic', 'home', 'honeygo', 'housing',\n",
       "       'hughesville', 'huntingtown', 'includes', 'industrial', 'infill',\n",
       "       'institutional', 'intense', 'lake', 'leonard', 'light', 'limited',\n",
       "       'local', 'lot', 'low', 'lusby', 'major', 'manufactured', 'map',\n",
       "       'marine', 'maritime', 'master', 'median', 'medium', 'mercantile',\n",
       "       'mid', 'middle', 'mineral', 'mixed', 'mobile', 'moderate', 'mul',\n",
       "       'multi', 'multifamilly', 'multifamily', 'multiple', 'name',\n",
       "       'neighborhood', 'neighorhood', 'new', 'northern', 'odenton',\n",
       "       'office', 'old', 'one', 'open', 'oriented', 'owings', 'p',\n",
       "       'parcel', 'park', 'per', 'planned', 'planning', 'plus', 'pr',\n",
       "       'preservation', 'prince', 'professional', 'protection', 'ptr',\n",
       "       'public', 'pud', 'quarter', 'r', 'rc', 'rd', 'recreational',\n",
       "       'reserved', 'residence', 'residential', 'resource', 'retail',\n",
       "       'retirement', 'revitalization', 'rise', 'river', 'rowhouse',\n",
       "       'rural', 'scale', 'science', 'select', 'semi', 'semidetached',\n",
       "       'senior', 'service', 'sf', 'shopping', 'shoreline', 'significant',\n",
       "       'single', 'size', 'solomon', 'southern', 'space', 'special',\n",
       "       'sqft', 'st', 'stevensville', 'subdivision', 'subsurban',\n",
       "       'suburban', 'subzone', 'technology', 'third', 'three', 'town',\n",
       "       'townhouse', 'traditional', 'transit', 'transition',\n",
       "       'transitional', 'transportation', 'triple', 'twenty', 'two',\n",
       "       'unit', 'unknown', 'urban', 'urbanized', 'use', 'village',\n",
       "       'waterfront', 'watershed', 'western', 'zone', 'zoning'],\n",
       "      dtype='<U14')"
      ]
     },
     "execution_count": 195,
     "metadata": {},
     "output_type": "execute_result"
    }
   ],
   "source": [
    "tokens"
   ]
  },
  {
   "cell_type": "code",
   "execution_count": 111,
   "id": "16aad8c8-51c3-4f4d-9ba5-dc8f5d9b9c49",
   "metadata": {},
   "outputs": [],
   "source": [
    "# token_2_count"
   ]
  },
  {
   "cell_type": "code",
   "execution_count": 146,
   "id": "6f7b76d6-187e-4e3c-9831-f4464fd35832",
   "metadata": {},
   "outputs": [],
   "source": [
    "ts = pickle.load(open('../data/scrapped/pickles_ts/1.pkl', 'rb'))"
   ]
  },
  {
   "cell_type": "code",
   "execution_count": 147,
   "id": "44db1950-fc1c-4292-a178-49481cb58013",
   "metadata": {},
   "outputs": [],
   "source": [
    "all_meta_data = pd.read_csv('../data/ordinates_meta_data.csv', sep = '*')\n",
    "all_meta_data_ecode_360 = all_meta_data.query('Site == \"General Code\"').reset_index(drop = True)\n",
    "all_meta_data_ecode_360['href'] = all_meta_data_ecode_360.Ordinance.apply(lambda x: x.split('/')[-1]).values\n",
    "all_meta_data_ecode_360['unique_id'] = range(all_meta_data_ecode_360.shape[0])\n",
    "# all_meta_data_ecode_360.head(2)\n",
    "meta_data = all_meta_data_ecode_360"
   ]
  },
  {
   "cell_type": "code",
   "execution_count": 148,
   "id": "7c809ef8-ce9c-4a4b-8ecd-e213d1c974f1",
   "metadata": {},
   "outputs": [
    {
     "data": {
      "text/plain": [
       "State                               California\n",
       "City/County    City of Albany (Alameda County)\n",
       "Ordinance          https://ecode360.com/AL4074\n",
       "Site                              General Code\n",
       "href                                    AL4074\n",
       "unique_id                                    1\n",
       "Name: 1, dtype: object"
      ]
     },
     "execution_count": 148,
     "metadata": {},
     "output_type": "execute_result"
    }
   ],
   "source": [
    "meta_data.iloc[1]"
   ]
  },
  {
   "cell_type": "code",
   "execution_count": 149,
   "id": "6f67b3c8-4a26-4e88-8282-9aa563b0dbd5",
   "metadata": {},
   "outputs": [
    {
     "data": {
      "text/plain": [
       "29"
      ]
     },
     "execution_count": 149,
     "metadata": {},
     "output_type": "execute_result"
    }
   ],
   "source": [
    "all_leaf_doc = ts.find_all_leaf_text()\n",
    "\n",
    "len(all_leaf_doc)"
   ]
  },
  {
   "cell_type": "code",
   "execution_count": 151,
   "id": "3340053d-9ec5-40c3-8fca-f1cd95805c7c",
   "metadata": {},
   "outputs": [
    {
     "data": {
      "text/plain": [
       "'agricultural, agriculture, apartment, area, automotive, avg, bio, business, campus, center, central, chester, city, commercial, conservation, conventional, development, district, general, local, lot, marine, master, mixed, neighborhood, office, planned, reserved, residential, resource, rural, science, service, size, transition, use, zone, zoning'"
      ]
     },
     "execution_count": 151,
     "metadata": {},
     "output_type": "execute_result"
    }
   ],
   "source": [
    "# query = 'zoning district, residential, minimum lot size, maximum density, minimum lot area'\n",
    "query = ', '.join(tokens[1:])\n",
    "query"
   ]
  },
  {
   "cell_type": "code",
   "execution_count": 136,
   "id": "44260d12-065b-485b-a36d-ab1cbb3acd4c",
   "metadata": {},
   "outputs": [],
   "source": [
    "# keywords = open('../data/keywords.txt', 'r').readlines()\n",
    "# keywords = [k.strip().lower() for k in keywords]\n",
    "# query = ' '.join(keywords)\n",
    "# query"
   ]
  },
  {
   "cell_type": "code",
   "execution_count": 137,
   "id": "9ea9ed6e-2a94-4563-b1e0-2ef18c080d5f",
   "metadata": {},
   "outputs": [],
   "source": [
    "all_leaf_doc = bm25_scores(all_leaf_doc, query)"
   ]
  },
  {
   "cell_type": "code",
   "execution_count": 138,
   "id": "12ede93c-4c36-45c5-a326-52f75b8463d8",
   "metadata": {},
   "outputs": [],
   "source": [
    "all_leaf_doc = sorted(all_leaf_doc, key = lambda doc: doc['score'], reverse = True)"
   ]
  },
  {
   "cell_type": "code",
   "execution_count": 140,
   "id": "0bbb6dc0-ea6f-4723-b281-9eeb41a4b18a",
   "metadata": {},
   "outputs": [],
   "source": [
    "# [doc['title'] for doc in all_leaf_doc]"
   ]
  },
  {
   "cell_type": "code",
   "execution_count": 130,
   "id": "f7757962-7912-4abb-99b7-0c8a10634a6e",
   "metadata": {},
   "outputs": [],
   "source": [
    "# all_leaf_doc"
   ]
  },
  {
   "cell_type": "code",
   "execution_count": 68,
   "id": "b9250ba7-2cd1-4488-9072-2a09bb47c8f6",
   "metadata": {},
   "outputs": [],
   "source": [
    "# [doc['title'] for doc in all_leaf_doc]"
   ]
  },
  {
   "cell_type": "markdown",
   "id": "9c7e6b83-c57a-4244-8ec0-7641331fa345",
   "metadata": {},
   "source": [
    "## 2.2. keybert"
   ]
  },
  {
   "cell_type": "code",
   "execution_count": 82,
   "id": "4a8f1bb6-d1b3-4240-b94e-f4f6ffbac68f",
   "metadata": {},
   "outputs": [
    {
     "name": "stderr",
     "output_type": "stream",
     "text": [
      "100%|██████████████████████| 400000/400000 [00:32<00:00, 12159.23it/s]\n"
     ]
    }
   ],
   "source": [
    "%run ../src/utils.py\n",
    "\n",
    "glove_dict = load_glove_embeddings()"
   ]
  },
  {
   "cell_type": "code",
   "execution_count": 69,
   "id": "5d4a692b-a521-4ae1-9238-70baf97fb37e",
   "metadata": {},
   "outputs": [],
   "source": [
    "from keybert import KeyBERT\n",
    "\n",
    "kw_model = KeyBERT()"
   ]
  },
  {
   "cell_type": "code",
   "execution_count": 86,
   "id": "afb1279c-dfe1-4130-acd9-b3fc61526f9d",
   "metadata": {},
   "outputs": [
    {
     "data": {
      "text/plain": [
       "300"
      ]
     },
     "execution_count": 86,
     "metadata": {},
     "output_type": "execute_result"
    }
   ],
   "source": [
    "len(glove_dict['zoning'])"
   ]
  },
  {
   "cell_type": "code",
   "execution_count": 91,
   "id": "1388eb8d-bf0f-4ed1-8b80-a3978cc26b4d",
   "metadata": {},
   "outputs": [
    {
     "data": {
      "text/plain": [
       "[['lot', 'area'],\n",
       " ['lot', 'size'],\n",
       " ['building', 'area'],\n",
       " ['building', 'site', 'area', 'acres', 'dwelling', 'unit'],\n",
       " ['square', 'feet', 'dwelling', 'unit']]"
      ]
     },
     "execution_count": 91,
     "metadata": {},
     "output_type": "execute_result"
    }
   ],
   "source": [
    "keywords = open('../data/keywords.txt', 'r').readlines()\n",
    "keywords = [clean_sent(k.strip().lower()) for k in keywords[:5]]\n",
    "# keywords_vec = [np.mean()]"
   ]
  },
  {
   "cell_type": "code",
   "execution_count": 96,
   "id": "906f7a29-1df6-48ac-bef4-224e691c58bb",
   "metadata": {},
   "outputs": [
    {
     "data": {
      "text/plain": [
       "(5, 300)"
      ]
     },
     "execution_count": 96,
     "metadata": {},
     "output_type": "execute_result"
    }
   ],
   "source": [
    "query_vec = [] \n",
    "for k in keywords:\n",
    "    vec = np.zeros(300)\n",
    "    for w in k:\n",
    "        vec += np.array(glove_dict[w])\n",
    "    vec /= len(k)\n",
    "    query_vec.append(list(vec))\n",
    "query_vec = np.array(query_vec)\n",
    "query_vec.shape"
   ]
  },
  {
   "cell_type": "code",
   "execution_count": 128,
   "id": "ec13739a-3887-4022-8044-78291ccc8899",
   "metadata": {},
   "outputs": [],
   "source": [
    "from numpy.linalg import norm\n",
    "\n",
    "def cos_sim(v1, v2):\n",
    "    if sum(v1 == 0) == len(v1) or sum(v2 == 0) == len(v2):\n",
    "        return 0\n",
    "    result = np.dot(v1, v2)/(norm(v1)*norm(v2))\n",
    "    return result\n",
    "\n",
    "def calc_sim_scores(query_vec, keywords_vec):\n",
    "    sim_scores = np.array([[cos_sim(k, q) for k in keywords_vec] for q in query_vec])\n",
    "    max_scores = sim_scores.max(axis = 1)\n",
    "    avg_max = max_scores.mean()\n",
    "    return avg_max\n",
    "\n",
    "def softmax(vec):\n",
    "    sum_of_exp = sum([np.exp(i) for i in vec])\n",
    "    vec = [np.exp(i) / sum_of_exp for i in vec]\n",
    "    return np.array(vec)"
   ]
  },
  {
   "cell_type": "code",
   "execution_count": 159,
   "id": "5060c205-c914-47c7-aa4b-fa022fce94f2",
   "metadata": {},
   "outputs": [
    {
     "name": "stderr",
     "output_type": "stream",
     "text": [
      "100%|███████████████████████████████| 185/185 [01:37<00:00,  1.90it/s]\n"
     ]
    }
   ],
   "source": [
    "for doc in tqdm(all_leaf_doc):\n",
    "    content = doc['text']\n",
    "    keywords = kw_model.extract_keywords(content, keyphrase_ngram_range=(1, 1), stop_words='english', top_n=20)\n",
    "    keywords_scores = softmax([k[1] for k in keywords])\n",
    "    keywords = [k[0] for k in keywords]\n",
    "    keywords_vec = []\n",
    "    for i in range(len(keywords)):\n",
    "        w = keywords[i]\n",
    "        vec = np.zeros(300)\n",
    "        valid_count = 0\n",
    "        for token in w.split():\n",
    "            if token in glove_dict.keys():\n",
    "                vec += np.array(glove_dict[token])\n",
    "                valid_count += 1\n",
    "        if valid_count > 0:\n",
    "            vec /= valid_count\n",
    "        keywords_vec.append(vec)\n",
    "    \n",
    "    sim_scores = np.array([[cos_sim(k, q) for k in keywords_vec] for q in query_vec])\n",
    "    sim_scores = sim_scores * keywords_scores\n",
    "    max_scores = sim_scores.max(axis = 1)\n",
    "    glove_sim_score = max_scores.mean()\n",
    "    #print(max_scores, keywords_scores)\n",
    "    #break\n",
    "    #glove_sim_score = calc_sim_scores(query_vec, keywords_vec)\n",
    "    doc['glove_sim_score'] = glove_sim_score\n",
    "    doc['keywords'] = keywords"
   ]
  },
  {
   "cell_type": "code",
   "execution_count": null,
   "id": "5c9f5f46-7646-4968-aa1e-3aac686f0c54",
   "metadata": {},
   "outputs": [],
   "source": [
    "all_leaf_doc = sorted(all_leaf_doc, key = lambda doc: doc['glove_sim_score'], reverse = True)"
   ]
  },
  {
   "cell_type": "code",
   "execution_count": null,
   "id": "d9b1551f-1798-4419-a90a-0c1999f1adf4",
   "metadata": {},
   "outputs": [],
   "source": []
  },
  {
   "cell_type": "code",
   "execution_count": null,
   "id": "3fb9c3a6-3218-4630-971e-8073fb3dc8a6",
   "metadata": {},
   "outputs": [],
   "source": []
  },
  {
   "cell_type": "code",
   "execution_count": null,
   "id": "f9f7fa2c-d5fd-4ef2-9ac6-115666a6fed6",
   "metadata": {},
   "outputs": [],
   "source": []
  },
  {
   "cell_type": "code",
   "execution_count": 131,
   "id": "137a3371-976c-4a21-b06b-efffd41ff357",
   "metadata": {},
   "outputs": [],
   "source": [
    "# a = np.array([[1, 2, 3],\n",
    "#               [2, 1, 5]])\n",
    "# b = np.array([0.1, 0.3, 0.6])\n",
    "# a * b"
   ]
  },
  {
   "cell_type": "code",
   "execution_count": 160,
   "id": "be5edb03-44e7-4d62-9d70-7f7f6b4b7805",
   "metadata": {},
   "outputs": [
    {
     "data": {
      "text/plain": [
       "(29.684743784360467,\n",
       " 22.724068402951694,\n",
       " 0.034873400722344405,\n",
       " 0.03099082789110115)"
      ]
     },
     "execution_count": 160,
     "metadata": {},
     "output_type": "execute_result"
    }
   ],
   "source": [
    "all_bm25_scores = [doc['score'] for doc in all_leaf_doc]\n",
    "bm25_mean = np.mean(all_bm25_scores)\n",
    "bm25_std = np.std(all_bm25_scores)\n",
    "\n",
    "all_glove_scores = [doc['glove_sim_score'] for doc in all_leaf_doc]\n",
    "glove_mean = np.mean(all_glove_scores)\n",
    "glove_std = np.std(all_glove_scores)\n",
    "\n",
    "bm25_mean, bm25_std, glove_mean, glove_std"
   ]
  },
  {
   "cell_type": "code",
   "execution_count": 162,
   "id": "ecf46e09-60b6-4be3-9c84-772688def36b",
   "metadata": {},
   "outputs": [],
   "source": [
    "for doc in all_leaf_doc:\n",
    "    if '(Reserved)' in doc['title']:\n",
    "        doc['normalized_scores'] = 0\n",
    "        continue\n",
    "    g = (doc['glove_sim_score'] - glove_mean) / glove_std\n",
    "    g = (g + 1) / 2\n",
    "    b = (doc['score'] - bm25_mean) / bm25_std\n",
    "    b = (b + 1) / 2\n",
    "    doc['normalized_scores'] = (g + b) / 2 / np.log(len(doc['text']))"
   ]
  },
  {
   "cell_type": "code",
   "execution_count": 173,
   "id": "ca755183-5160-4423-acc5-dfdd76cd34ce",
   "metadata": {},
   "outputs": [],
   "source": [
    "all_leaf_doc = sorted(all_leaf_doc, key = lambda doc: doc['normalized_scores'], reverse = True)"
   ]
  },
  {
   "cell_type": "code",
   "execution_count": 174,
   "id": "b25812a8-f477-4ac8-94e0-614481c5b12e",
   "metadata": {},
   "outputs": [
    {
     "data": {
      "text/plain": [
       "0.045608003711205505"
      ]
     },
     "execution_count": 174,
     "metadata": {},
     "output_type": "execute_result"
    }
   ],
   "source": [
    "median_score = np.median([doc['normalized_scores'] for doc in all_leaf_doc])\n",
    "median_score"
   ]
  },
  {
   "cell_type": "code",
   "execution_count": 175,
   "id": "55364e1a-4408-4519-9bc4-4ee129e7d093",
   "metadata": {},
   "outputs": [],
   "source": [
    "# all_leaf_doc[0]"
   ]
  },
  {
   "cell_type": "code",
   "execution_count": 176,
   "id": "f2b6cd05-8197-4619-b799-053871e5d4fd",
   "metadata": {
    "scrolled": true,
    "tags": []
   },
   "outputs": [],
   "source": [
    "# [doc['keywords'] for doc in all_leaf_doc]"
   ]
  },
  {
   "cell_type": "code",
   "execution_count": 178,
   "id": "9cb8119d-1eb0-4fef-92c5-9275537bdbfe",
   "metadata": {},
   "outputs": [],
   "source": [
    "# [(doc['title'], len(doc['text']), doc['normalized_scores'], doc['glove_sim_score'], doc['score']) for doc in all_leaf_doc]"
   ]
  },
  {
   "cell_type": "code",
   "execution_count": 179,
   "id": "8d93f045-2046-49f1-b070-1dca14826fa4",
   "metadata": {},
   "outputs": [
    {
     "name": "stderr",
     "output_type": "stream",
     "text": [
      "No model was supplied, defaulted to distilbert-base-cased-distilled-squad (https://huggingface.co/distilbert-base-cased-distilled-squad)\n"
     ]
    }
   ],
   "source": [
    "from transformers import pipeline\n",
    "question_answering = pipeline(\"question-answering\")"
   ]
  },
  {
   "cell_type": "code",
   "execution_count": 180,
   "id": "f166e367-939c-4cd5-871c-b69bfec6975b",
   "metadata": {},
   "outputs": [
    {
     "name": "stderr",
     "output_type": "stream",
     "text": [
      "  0%|                                         | 0/185 [00:00<?, ?it/s]/opt/anaconda3/envs/dsml/lib/python3.8/site-packages/transformers/tokenization_utils_base.py:705: VisibleDeprecationWarning: Creating an ndarray from ragged nested sequences (which is a list-or-tuple of lists-or-tuples-or ndarrays with different lengths or shapes) is deprecated. If you meant to do this, you must specify 'dtype=object' when creating the ndarray.\n",
      "  tensor = as_tensor(value)\n",
      "/opt/anaconda3/envs/dsml/lib/python3.8/site-packages/transformers/pipelines/question_answering.py:295: VisibleDeprecationWarning: Creating an ndarray from ragged nested sequences (which is a list-or-tuple of lists-or-tuples-or ndarrays with different lengths or shapes) is deprecated. If you meant to do this, you must specify 'dtype=object' when creating the ndarray.\n",
      "  p_mask = np.asarray(\n",
      "100%|███████████████████████████████| 185/185 [04:47<00:00,  1.55s/it]\n"
     ]
    }
   ],
   "source": [
    "for doc in tqdm(all_leaf_doc):\n",
    "    if doc['normalized_scores'] < median_score:\n",
    "        answer = ''\n",
    "        answer_score = 0\n",
    "    else:\n",
    "        question = \"What is the minimun lot area requirement?\"\n",
    "        context = doc['text']\n",
    "        result = question_answering(question=question, context=context)\n",
    "        answer = result['answer']\n",
    "        answer_score = result['score']\n",
    "    doc['answer'] = answer\n",
    "    doc['answer_score'] = answer_score"
   ]
  },
  {
   "cell_type": "code",
   "execution_count": 187,
   "id": "f3b787fa-d31c-4592-bbaf-1247a134b905",
   "metadata": {},
   "outputs": [
    {
     "data": {
      "text/plain": [
       "185"
      ]
     },
     "execution_count": 187,
     "metadata": {},
     "output_type": "execute_result"
    }
   ],
   "source": [
    "len(all_leaf_doc)"
   ]
  },
  {
   "cell_type": "code",
   "execution_count": 185,
   "id": "1b4df804-d02d-48c5-bee0-66690602a90d",
   "metadata": {
    "scrolled": true,
    "tags": []
   },
   "outputs": [
    {
     "data": {
      "text/plain": [
       "[('DIVISION 4.10\\t    \\tAccessory Buildings; Accessory Dwelling Units',\n",
       "  0.1784120205338145,\n",
       "  'Site plan drawn to scale',\n",
       "  0.22192487120628357),\n",
       " ('DIVISION 4.9\\t    \\tYard, Size and Area Requirements',\n",
       "  0.13838447499442375,\n",
       "  'No buildings shall be erected or enlarged',\n",
       "  0.007866079919040203),\n",
       " ('DIVISION 6.7\\t    \\tLot Split Requirements',\n",
       "  0.13526418905102658,\n",
       "  'A completed application with required signatures',\n",
       "  0.07060255110263824),\n",
       " ('DIVISION 6.6\\t    \\tLarge-Lot Split Requirements',\n",
       "  0.12024219474534982,\n",
       "  'All resulting lots\\nmust be 10 acres or greater',\n",
       "  0.1510065197944641),\n",
       " ('DIVISION 4.16\\t    \\tOff-Street Parking and Loading',\n",
       "  0.12015838781046127,\n",
       "  'child-care centers, day-care family\\nhomes, residential home day cares',\n",
       "  0.12157001346349716),\n",
       " ('DIVISION 4.2\\t    \\tAgricultural District Regulations',\n",
       "  0.11331899147407022,\n",
       "  'Yard, size',\n",
       "  0.008044905960559845),\n",
       " ('DIVISION 2.6\\t    \\tFees',\n",
       "  0.11195827307337715,\n",
       "  'splits',\n",
       "  0.045381177216768265),\n",
       " ('DIVISION 4.3\\t    \\tResidential District Regulations',\n",
       "  0.11088015021975603,\n",
       "  '§\\xa04.3.4      Yard, size',\n",
       "  0.1854599416255951),\n",
       " ('DIVISION 6.2\\t    \\tPreapplication Considerations',\n",
       "  0.10996529148582311,\n",
       "  'No special forms',\n",
       "  0.15224668383598328),\n",
       " ('Chapter 11.04\\t    \\tBuilding Permit',\n",
       "  0.10922847694072385,\n",
       "  '§\\xa011.04.05      Bond',\n",
       "  0.08001958578824997),\n",
       " ('DIVISION 4.1\\t    \\tGeneral',\n",
       "  0.10613966158800123,\n",
       "  'accessory dwelling units',\n",
       "  0.24689354002475739),\n",
       " ('DIVISION 4.4\\t    \\tCommercial Mixed-Use District Regulations',\n",
       "  0.09811203223317319,\n",
       "  '§\\xa04.4.4      Yard, size, and area requirements',\n",
       "  0.1311689019203186),\n",
       " ('DIVISION 4.7\\t    \\tPlanned Unit Development (PUD)',\n",
       "  0.09694476812968404,\n",
       "  'No minimum lot sizes are established',\n",
       "  0.17319640517234802),\n",
       " ('DIVISION 4.6\\t    \\tHome Occupations',\n",
       "  0.09658006900691973,\n",
       "  'no such parking shall be permitted in a required setback',\n",
       "  0.11441981792449951),\n",
       " ('DIVISION 2.2\\t    \\tApplications',\n",
       "  0.09547856446630885,\n",
       "  'Divisions 6.3, 6.7',\n",
       "  0.009732433594763279),\n",
       " ('Chapter 13.12\\t    \\tPlanning Area Boundary',\n",
       "  0.0941624019013041,\n",
       "  'annexations occur in areas between the respective cities',\n",
       "  0.04267093539237976),\n",
       " ('DIVISION 5.3\\t    \\tLandscape, Screening, and Buffering Requirements',\n",
       "  0.09247469704035759,\n",
       "  'Minimum number of trees',\n",
       "  0.7893272638320923),\n",
       " ('DIVISION 6.10\\t    \\tDesign Standards for Large-Scale Developments, Small Site Plans, Dupexes, Triplexes, Quadplexes, and Multifamily Developments',\n",
       "  0.09240304331432972,\n",
       "  'an additional amenity',\n",
       "  0.14067578315734863),\n",
       " ('DIVISION 5.1\\t    \\tFences, Walls or Hedges',\n",
       "  0.09235506203263555,\n",
       "  'height\\nand type of construction',\n",
       "  0.03696196898818016),\n",
       " ('DIVISION 3.7\\t    \\tAppeals',\n",
       "  0.09082528119942494,\n",
       "  'Appeal of decisions',\n",
       "  0.27656567096710205),\n",
       " ('DIVISION 4.11\\t    \\tAdditional District Provisions',\n",
       "  0.09044456548610719,\n",
       "  'equal\\nthe width required to cover the window opening',\n",
       "  0.19328095018863678),\n",
       " ('DIVISION 1.3\\t    \\tJurisdiction',\n",
       "  0.08673643990697412,\n",
       "  '§\\xa01.3.2      Applicability',\n",
       "  0.021332059055566788),\n",
       " ('DIVISION 6.8\\t    \\tLarge-Scale Developments',\n",
       "  0.08656711933212326,\n",
       "  'a building permit',\n",
       "  0.41419917345046997),\n",
       " ('DIVISION 3.2\\t    \\tGeneral Provisions',\n",
       "  0.0850087610800957,\n",
       "  '§\\xa03.2.1',\n",
       "  0.49231529235839844),\n",
       " ('DIVISION 1.2\\t    \\tAuthority',\n",
       "  0.08478498378280913,\n",
       "  'additional powers\\nof cities of the first class',\n",
       "  0.18046315014362335),\n",
       " ('DIVISION 3.6\\t    \\tBuilding Permits',\n",
       "  0.08350224339948882,\n",
       "  '§\\xa03.6.1      Permit required; application; failure to obtain',\n",
       "  0.36138343811035156),\n",
       " ('Article VIII\\t    \\tDefinitions',\n",
       "  0.08180555424296045,\n",
       "  'all overhanging roofs',\n",
       "  0.6113172769546509),\n",
       " ('Chapter 9.08\\t    \\tExcavations and Alterations',\n",
       "  0.08178132139193758,\n",
       "  '$5\\nper square foot',\n",
       "  0.17993715405464172),\n",
       " ('DIVISION 3.5\\t    \\tSubdivision Regulations',\n",
       "  0.0815096756824222,\n",
       "  'lot line adjustment, or subdivision\\napproval',\n",
       "  0.06899324804544449),\n",
       " ('DIVISION 5.2\\t    \\tTrees',\n",
       "  0.08097288819404615,\n",
       "  '§\\xa05.2.7      Violations and penalties',\n",
       "  0.04149892181158066),\n",
       " ('DIVISION 4.15\\t    \\tSigns',\n",
       "  0.08094170656704731,\n",
       "  'valid building permit',\n",
       "  0.3396242558956146),\n",
       " ('DIVISION 6.14\\t    \\tStormwater Drainage and Management Requirements',\n",
       "  0.0798426082653506,\n",
       "  'Easement',\n",
       "  0.47853368520736694),\n",
       " ('DIVISION 4.5\\t    \\tIndustrial District Regulations',\n",
       "  0.07964561785416309,\n",
       "  '§\\xa04.5.3      Yard',\n",
       "  0.015448473393917084),\n",
       " ('DIVISION 6.11\\t    \\tRequirements for Improvements, Reservations, and Design',\n",
       "  0.07889643810349621,\n",
       "  'direct access\\nto a public street',\n",
       "  0.2602229416370392),\n",
       " ('DIVISION 2.1\\t    \\tAmendments',\n",
       "  0.07836656065025445,\n",
       "  '§\\xa02.1.1      Amendment procedures',\n",
       "  0.1030416414141655),\n",
       " ('DIVISION 6.13\\t    \\tDesign Requirements',\n",
       "  0.07799295622034967,\n",
       "  'distance to slope',\n",
       "  0.49522846937179565),\n",
       " ('Chapter 11.05\\t    \\tDemolition Permit',\n",
       "  0.07432772261550977,\n",
       "  'a fine of $300 in addition to the cost of\\nthe demolition permit',\n",
       "  0.12228919565677643),\n",
       " ('DIVISION 6.9\\t    \\tSmall Site Plans and Grading Plans',\n",
       "  0.07424045328801553,\n",
       "  '§\\xa06.9.3      Site plan requirements',\n",
       "  0.006284632254391909),\n",
       " ('DIVISION 5.4\\t    \\tVisibility at Intersections; Sight Triangle',\n",
       "  0.07302828675417435,\n",
       "  'adjustment of standard',\n",
       "  0.2913716733455658),\n",
       " ('DIVISION 3.1\\t    \\tAdministrative Official',\n",
       "  0.07226777872186575,\n",
       "  '§\\xa03.1.1      Appointment; duties',\n",
       "  0.03687899932265282),\n",
       " ('DIVISION 6.1\\t    \\tGeneral Provisions',\n",
       "  0.0720044799718281,\n",
       "  'requiring the developer to pay fees, furnish\\nland',\n",
       "  0.035549916326999664),\n",
       " ('DIVISION 7.4\\t    \\tProvisions for Flood Hazard Reduction',\n",
       "  0.07135343054720614,\n",
       "  'Any improvement to an existing structure that is less than a substantial\\nimprovement',\n",
       "  0.13063301146030426),\n",
       " ('DIVISION 6.12\\t    \\tRequired On- and Off-Site Infrastructure Improvements',\n",
       "  0.07060179336831783,\n",
       "  'a connection\\nto said public water supply',\n",
       "  0.3489198386669159),\n",
       " ('Chapter 7.60\\t    \\tRestroom Facilities',\n",
       "  0.06997583128135251,\n",
       "  'restroom facilities',\n",
       "  0.0455559678375721),\n",
       " ('DIVISION 4.17\\t    \\tWireless Communication Towers',\n",
       "  0.06985640412639278,\n",
       "  'Minimization of noise and light',\n",
       "  0.34479033946990967),\n",
       " ('Chapter 12.16\\t    \\tSenior Center Building',\n",
       "  0.06906913984657076,\n",
       "  'financial assistance',\n",
       "  0.030661331489682198),\n",
       " ('Chapter 14.20\\t    \\tAnnexing, Vacating and Re-Zoning',\n",
       "  0.06898257243380011,\n",
       "  'Adoption of new land use zones',\n",
       "  0.19115744531154633),\n",
       " ('Chapter 12.12\\t    \\tConduct at Lincoln Lake Park',\n",
       "  0.06876307600069638,\n",
       "  'a nighttime\\nfishing permit',\n",
       "  0.11784396320581436),\n",
       " ('DIVISION 2.5\\t    \\tExpirations, Extensions, and Reinstatements',\n",
       "  0.0686172776112989,\n",
       "  '§\\xa02.5.1      Expiration requirements',\n",
       "  0.09487445652484894),\n",
       " ('DIVISION 7.2\\t    \\tDefinitions',\n",
       "  0.06698414831212762,\n",
       "  'rent or sale',\n",
       "  0.20327717065811157),\n",
       " ('DIVISION 1.1\\t    \\tTitle and Purpose',\n",
       "  0.06671587087976161,\n",
       "  'The appropriate and best use of land',\n",
       "  1.7410311556886882e-06),\n",
       " ('Chapter 11.02\\t    \\tBuilding Official/Enforcement',\n",
       "  0.06590118536244026,\n",
       "  'not less than $100 and not more than $250',\n",
       "  0.010753549635410309),\n",
       " ('Chapter 11.44\\t    \\tKey Lock Box System',\n",
       "  0.06516753609187108,\n",
       "  '11.44.04      Keys',\n",
       "  0.41787058115005493),\n",
       " ('Chapter 2.36\\t    \\tCity Attorney',\n",
       "  0.06469688831777104,\n",
       "  '§\\xa02.36.01      Elected City Attorney',\n",
       "  1.934526835611905e-06),\n",
       " ('Chapter 9.12\\t    \\tNames and Addresses',\n",
       "  0.0631571044662085,\n",
       "  'fined not less than $10 nor more\\nthan $25 plus prosecution costs',\n",
       "  0.07358668744564056),\n",
       " ('DIVISION 2.3\\t    \\tPublic Hearings; Meetings',\n",
       "  0.06278977973728299,\n",
       "  '§\\xa02.3.2      Notice required',\n",
       "  0.0616627112030983),\n",
       " ('Chapter 2.32\\t    \\tClerk/Treasurer',\n",
       "  0.06168855660153336,\n",
       "  '12 monthly increments\\nof $125 each',\n",
       "  0.012474044226109982),\n",
       " ('DIVISION 7.3\\t    \\tAdministration',\n",
       "  0.06168033233846091,\n",
       "  '§\\xa07.3.3      Floodplain development permit required',\n",
       "  0.10269831866025925),\n",
       " ('DIVISION 6.5\\t    \\tFinal Plat Requirements',\n",
       "  0.061099830733255305,\n",
       "  'Arkansas Minimum Standards',\n",
       "  0.29840362071990967),\n",
       " ('Chapter 2.48\\t    \\tDistrict Court',\n",
       "  0.061068456061454744,\n",
       "  'fines',\n",
       "  3.836426458292408e-06),\n",
       " ('Chapter 10.08\\t    \\tWater and Sewer Rates',\n",
       "  0.061066315985429005,\n",
       "  'City Rate',\n",
       "  0.08164422959089279),\n",
       " ('Chapter 5.20\\t    \\tSolid Waste',\n",
       "  0.06042383736321223,\n",
       "  'D.\\xa0License',\n",
       "  0.05057472735643387),\n",
       " ('Chapter 2.04\\t    \\tCity Classification',\n",
       "  0.060184969674209325,\n",
       "  'first class City',\n",
       "  0.03311451897025108),\n",
       " ('DIVISION 4.14\\t    \\tConditional Uses',\n",
       "  0.05890307869130389,\n",
       "  'pay a refundable deposit',\n",
       "  0.023106185719370842),\n",
       " ('Chapter 1.40\\t    \\tPosting of Ordinances',\n",
       "  0.0584313426947902,\n",
       "  'public notice',\n",
       "  0.00033746493863873184),\n",
       " ('Chapter 2.33\\t    \\tCompensation',\n",
       "  0.057346996824683485,\n",
       "  'personal expenditures',\n",
       "  0.01685948483645916),\n",
       " ('Chapter 7.52\\t    \\tWater Usage in Emergency',\n",
       "  0.05691863490151181,\n",
       "  'Only water necessary\\nto provide fire protection or maintain human health shall be allowed',\n",
       "  0.051718320697546005),\n",
       " ('Chapter 2.56\\t    \\tCemetery Board',\n",
       "  0.055312546724697556,\n",
       "  'five years',\n",
       "  0.012942563742399216),\n",
       " ('DIVISION 4.19\\t    \\tNonconforming Uses and Structures',\n",
       "  0.055286676264886085,\n",
       "  'the use of the structure is in conformance with this code',\n",
       "  0.2317502349615097),\n",
       " ('Chapter 3.04\\t    \\tPurchases',\n",
       "  0.05524454135322761,\n",
       "  'less than $20,000',\n",
       "  0.2163597196340561),\n",
       " ('Chapter 2.08\\t    \\tCity and Ward Boundaries',\n",
       "  0.05426667693350708,\n",
       "  'to redraw the ward boundaries',\n",
       "  0.2850011885166168),\n",
       " ('DIVISION 6.4\\t    \\tPreliminary Plat Requirements',\n",
       "  0.0537919300690577,\n",
       "  'Lincoln Unified Development Code',\n",
       "  0.06204341724514961),\n",
       " ('DIVISION 3.4\\t    \\tMiscellaneous Remedies',\n",
       "  0.0537128622434938,\n",
       "  '§\\xa03.4.1      Occupancy',\n",
       "  0.06948672980070114),\n",
       " ('Chapter 10.04\\t    \\tSewer Regulations',\n",
       "  0.053473292585272426,\n",
       "  'less than 7,000 square feet',\n",
       "  0.5534263849258423),\n",
       " ('DIVISION 2.4\\t    \\tAppeals',\n",
       "  0.05334943835763248,\n",
       "  'variances are approved',\n",
       "  0.04519883170723915),\n",
       " ('Chapter 2.76\\t    \\tRetired Employee Health Care Coverage',\n",
       "  0.05281435525912167,\n",
       "  '§\\xa02.76.02      Coverage',\n",
       "  7.485114565497497e-06),\n",
       " ('DIVISION 3.3\\t    \\tEnforcement',\n",
       "  0.052250979849262656,\n",
       "  'the City shall have a lien against such property for such costs',\n",
       "  0.006530247163027525),\n",
       " ('Chapter 2.60\\t    \\tCity Business Manager',\n",
       "  0.051728499831061876,\n",
       "  'water/sewer fund',\n",
       "  0.039250947535037994),\n",
       " ('Chapter 2.24\\t    \\tCity Council',\n",
       "  0.05160738452378632,\n",
       "  '§\\xa02.24.05      Timely applications for agenda required',\n",
       "  0.016039514914155006),\n",
       " ('Chapter 11.06\\t    \\tMoving Structures',\n",
       "  0.05071636130348877,\n",
       "  'The moving of previously used structures',\n",
       "  0.08036527782678604),\n",
       " ('Chapter 11.34\\t    \\tProperty Maintenance Code',\n",
       "  0.050660348613446565,\n",
       "  'jurisdiction to insert height in inches',\n",
       "  0.13697832822799683),\n",
       " ('Chapter 8.20\\t    \\tParking',\n",
       "  0.04930617568569606,\n",
       "  'parking citation',\n",
       "  0.01755613647401333),\n",
       " ('Chapter 2.26\\t    \\tCity Council Operating Procedures',\n",
       "  0.04922962902154179,\n",
       "  'Stamping of feet',\n",
       "  0.029439106583595276),\n",
       " ('Chapter 3.16\\t    \\tMayor and/or Aldermen Conducting Business With the City',\n",
       "  0.04900335256588987,\n",
       "  'It does not include any person receiving compensation as an independent\\ncontractor',\n",
       "  0.01248201820999384),\n",
       " ('Chapter 2.64\\t    \\tPublic Service Program',\n",
       "  0.04838764593883063,\n",
       "  '$10 per day',\n",
       "  0.0077153705060482025),\n",
       " ('DIVISION 7.1\\t    \\tGeneral Provisions',\n",
       "  0.04815427769611759,\n",
       "  'protection against flood damage',\n",
       "  0.64644455909729),\n",
       " ('Chapter 4.24\\t    \\tBusiness Privilege Licensing',\n",
       "  0.04761607669529932,\n",
       "  '$50\\nper occurrence',\n",
       "  0.06314537674188614),\n",
       " ('Chapter DL\\t    \\tDisposition List',\n",
       "  0.04668816550831304,\n",
       "  'No. 2021-8\\n5-18-2021',\n",
       "  0.02714085765182972),\n",
       " ('Chapter 2.28\\t    \\tMayor',\n",
       "  0.04664565760928747,\n",
       "  'The rate of pay',\n",
       "  6.2721954918743e-07),\n",
       " ('Chapter 2.16\\t    \\tSocial Security Coverage',\n",
       "  0.046444223810535916,\n",
       "  'taxes from wages',\n",
       "  0.00589781254529953),\n",
       " ('DIVISION 4.18\\t    \\tSmall Cell Wireless Communication',\n",
       "  0.046231769680232626,\n",
       "  'compliance with applicable\\ncodes',\n",
       "  0.605574369430542),\n",
       " ('Chapter 7.40\\t    \\tNoise',\n",
       "  0.04603225048675774,\n",
       "  'more than $50',\n",
       "  0.0870421752333641),\n",
       " ('Chapter 2.40\\t    \\tFire Department',\n",
       "  0.045608003711205505,\n",
       "  'tamper with or\\nmolest any fire hydrant of the City',\n",
       "  0.008281443268060684),\n",
       " ('Chapter 2.12\\t    \\tEmergency Services', 0.044979088473715255, '', 0),\n",
       " ('Chapter 2.45\\t    \\tPolice Department Fees', 0.04472695592049552, '', 0),\n",
       " ('Chapter 7.08\\t    \\tCurfew', 0.04352436271776998, '', 0),\n",
       " ('DIVISION 1.4\\t    \\tSeverability; Repealer', 0.042795567607961375, '', 0),\n",
       " ('Chapter 7.24\\t    \\tVolatile Materials and the Fire Department',\n",
       "  0.042631889602676325,\n",
       "  '',\n",
       "  0),\n",
       " ('DIVISION 6.3\\t    \\tPlat and Large-Scale Development Plan Requirements',\n",
       "  0.0425259755768059,\n",
       "  '',\n",
       "  0),\n",
       " ('Chapter 10.16\\t    \\tInterlocal Water Agreement',\n",
       "  0.04244736953666834,\n",
       "  '',\n",
       "  0),\n",
       " ('Chapter 7.64\\t    \\tSmoking', 0.041954882953990476, '', 0),\n",
       " ('Chapter 2.25\\t    \\tCity Council Committees', 0.04184031597541704, '', 0),\n",
       " ('Chapter 10.20\\t    \\tCross Connection Control Program',\n",
       "  0.040930835012393446,\n",
       "  '',\n",
       "  0),\n",
       " ('Chapter 7.56\\t    \\tHazardous Response Team', 0.04013737940362197, '', 0),\n",
       " ('Chapter 3.20\\t    \\tSingle Transaction', 0.03980773031179873, '', 0),\n",
       " ('Chapter 4.16\\t    \\tCable Tv Franchise', 0.039659051945294815, '', 0),\n",
       " ('Chapter 11.32\\t    \\tBuilding Code', 0.03954494166501527, '', 0),\n",
       " ('DIVISION 6.17\\t    \\tAcceptance, Dedications, and Recordation',\n",
       "  0.03893758094743361,\n",
       "  '',\n",
       "  0),\n",
       " ('DIVISION 4.8\\t    \\tUnified Use Table', 0.038773360543270075, '', 0),\n",
       " ('Chapter 4.32\\t    \\tGarage, Yard and Carport Sales',\n",
       "  0.03861006090145335,\n",
       "  '',\n",
       "  0),\n",
       " ('DIVISION 4.12\\t    \\tAmendments to Zoning Regulations',\n",
       "  0.03856354799195705,\n",
       "  '',\n",
       "  0),\n",
       " ('DIVISION 6.15\\t    \\tAcceptance of Public Dedications, Assurance for Completion of Improvements, and Warranty',\n",
       "  0.03855189268425406,\n",
       "  '',\n",
       "  0),\n",
       " ('Chapter 8.32\\t    \\tNorthwest Arkansas Regional Mobility Authority',\n",
       "  0.03824899701176131,\n",
       "  '',\n",
       "  0),\n",
       " ('Chapter 8.12\\t    \\tEmergency Vehicles', 0.03803500918331574, '', 0),\n",
       " ('Chapter 2.44\\t    \\tPolice Department', 0.03749757862534382, '', 0),\n",
       " ('Chapter 8.28\\t    \\tReckless Driving', 0.03733179220285796, '', 0),\n",
       " ('Chapter 6.08\\t    \\tOther Animals and Fowl', 0.03685412547633322, '', 0),\n",
       " ('Chapter 1.12\\t    \\tSubheadings of Sections', 0.036555710443510324, '', 0),\n",
       " ('Chapter 4.04\\t    \\tElectric Franchise', 0.03650236065601374, '', 0),\n",
       " ('Chapter 1.08\\t    \\tRules of Construction', 0.036295697978666414, '', 0),\n",
       " ('DIVISION 4.13\\t    \\tBoard of Adjustment', 0.035891860149507675, '', 0),\n",
       " ('Chapter 3.08\\t    \\tPurchases Through State', 0.03538941431664303, '', 0),\n",
       " ('Chapter 3.24\\t    \\tBonds', 0.03503791803281177, '', 0),\n",
       " ('Chapter 1.28\\t    \\tAltering Code', 0.03398552746294713, '', 0),\n",
       " ('Chapter 6.16\\t    \\tTethering of Animals', 0.03392748511897193, '', 0),\n",
       " ('Chapter 6.12\\t    \\tVicious Animals', 0.03347333658226329, '', 0),\n",
       " ('Chapter 7.44\\t    \\tFireworks', 0.03321095175823225, '', 0),\n",
       " ('Chapter 4.12\\t    \\tTelephone Franchise', 0.032355910429911205, '', 0),\n",
       " ('Chapter 6.04\\t    \\tDogs', 0.03228516627158955, '', 0),\n",
       " ('Chapter 1.04\\t    \\tHow Code Designated and Cited',\n",
       "  0.031921916749850655,\n",
       "  '',\n",
       "  0),\n",
       " ('Chapter 13.04\\t    \\tPlanning Commission', 0.03028358577605981, '', 0),\n",
       " ('Chapter 8.08\\t    \\tTruck Routes', 0.029569131162567843, '', 0),\n",
       " ('Chapter 8.24\\t    \\tTransporting of Beer, Wine, or Liquor',\n",
       "  0.029526674176882893,\n",
       "  '',\n",
       "  0),\n",
       " ('Chapter 1.32\\t    \\tGeneral Penalty', 0.029498291319380008, '', 0),\n",
       " ('DIVISION 3.8\\t    \\tViolation and Penalties; Certificates of Occupancy and Compliance',\n",
       "  0.028976748217358638,\n",
       "  '',\n",
       "  0),\n",
       " ('Chapter 8.04\\t    \\tAdoption of State Laws', 0.02888148833632749, '', 0),\n",
       " ('Chapter 7.48\\t    \\tLincoln Municipal Library', 0.02831053076775182, '', 0),\n",
       " ('Chapter 4.08\\t    \\tGas Franchise', 0.028001375610703656, '', 0),\n",
       " ('Chapter 5.12\\t    \\tMaintenance of Real Property',\n",
       "  0.02796251990888786,\n",
       "  '',\n",
       "  0),\n",
       " ('Chapter 1.20\\t    \\tSeverability of Parts of Code',\n",
       "  0.027546061354560086,\n",
       "  '',\n",
       "  0),\n",
       " ('Chapter 1.16\\t    \\tEffect of Repeal of Ordinances',\n",
       "  0.02752981725744983,\n",
       "  '',\n",
       "  0),\n",
       " ('Chapter 4.36\\t    \\tAmbulance Service', 0.027385864861394733, '', 0),\n",
       " ('Chapter 7.32\\t    \\tSummons Procedure', 0.024233017629267876, '', 0),\n",
       " ('Chapter 11.24\\t    \\tEnergy Code', 0.024206676822039665, '', 0),\n",
       " ('Chapter 12.10\\t    \\tPark Regulations', 0.02411707247016241, '', 0),\n",
       " ('Chapter 1.24\\t    \\tAmendments to Code', 0.02336192443354947, '', 0),\n",
       " ('Chapter 11.16\\t    \\tMechanical Code', 0.023119939313287912, '', 0),\n",
       " ('Chapter 1.36\\t    \\tReferendum Petitions', 0.02307227409539738, '', 0),\n",
       " ('Chapter 11.12\\t    \\tElectrical Code', 0.021671925563213006, '', 0),\n",
       " ('Chapter 7.28\\t    \\tOutside Fire Service', 0.021598652179900354, '', 0),\n",
       " ('Chapter 11.20\\t    \\tResidential Code', 0.021489364774385823, '', 0),\n",
       " ('DIVISION 6.16\\t    \\tInspection of Improvements',\n",
       "  0.02142163816535807,\n",
       "  '',\n",
       "  0),\n",
       " ('Chapter 11.36\\t    \\tFuel Gas Code', 0.0212532294207107, '', 0),\n",
       " ('Chapter 11.28\\t    \\tFire Prevention Code', 0.02077895260692027, '', 0),\n",
       " ('Chapter 4.28\\t    \\tOne Call Participation', 0.019028538682858476, '', 0),\n",
       " ('Chapter 11.40\\t    \\tCondemned Structures', 0.01754249510838878, '', 0),\n",
       " ('Chapter 8.16\\t    \\tInoperable Vehicles', 0.017517529249850367, '', 0),\n",
       " ('Chapter 5.16\\t    \\tLittering', 0.015688922004598597, '', 0),\n",
       " ('Chapter 11.08\\t    \\tPlumbing Code', 0.011542328512143395, '', 0),\n",
       " ('Chapter 7.16\\t    \\tProhibited Weapons', 0.008829380302275069, '', 0),\n",
       " ('Chapter 7.04\\t    \\tState Criminal Statutes and Penalties',\n",
       "  0.007049496585278571,\n",
       "  '',\n",
       "  0),\n",
       " ('Chapter 2.20\\t    \\t(Reserved)', 0, '', 0),\n",
       " ('Chapter 2.52\\t    \\t(Reserved)', 0, '', 0),\n",
       " ('Chapter 2.68\\t    \\t(Reserved)', 0, '', 0),\n",
       " ('Chapter 2.72\\t    \\t(Reserved)', 0, '', 0),\n",
       " ('Chapter 3.12\\t    \\t(Reserved)', 0, '', 0),\n",
       " ('Chapter 4.20\\t    \\t(Reserved)', 0, '', 0),\n",
       " ('Chapter 5.04\\t    \\t(Reserved)', 0, '', 0),\n",
       " ('Chapter 5.08\\t    \\t(Reserved)', 0, '', 0),\n",
       " ('Chapter 7.06\\t    \\t(Reserved)', 0, '', 0),\n",
       " ('Chapter 7.12\\t    \\t(Reserved)', 0, '', 0),\n",
       " ('Chapter 7.20\\t    \\t(Reserved)', 0, '', 0),\n",
       " ('Chapter 7.36\\t    \\t(Reserved)', 0, '', 0),\n",
       " ('Chapter 9.04\\t    \\t(Reserved)', 0, '', 0),\n",
       " ('Chapter 10.12\\t    \\t(Reserved)', 0, '', 0),\n",
       " ('Chapter 11.48\\t    \\t(Reserved)', 0, '', 0),\n",
       " ('Chapter 13.08\\t    \\t(Reserved)', 0, '', 0),\n",
       " ('Chapter 14.04\\t    \\t(Reserved)', 0, '', 0),\n",
       " ('Chapter 14.06\\t    \\t(Reserved)', 0, '', 0),\n",
       " ('Chapter 14.08\\t    \\t(Reserved)', 0, '', 0),\n",
       " ('Chapter 14.12\\t    \\t(Reserved)', 0, '', 0),\n",
       " ('Chapter 14.16\\t    \\t(Reserved)', 0, '', 0),\n",
       " ('Chapter 15.04\\t    \\t(Reserved)', 0, '', 0),\n",
       " ('Chapter 11.52\\t    \\t(Reserved)', 0, '', 0),\n",
       " ('Chapter 14.24\\t    \\t(Reserved)', 0, '', 0)]"
      ]
     },
     "execution_count": 185,
     "metadata": {},
     "output_type": "execute_result"
    }
   ],
   "source": [
    "[(doc['title'], doc['normalized_scores'], doc['answer'], doc['answer_score']) for doc in all_leaf_doc]"
   ]
  },
  {
   "cell_type": "code",
   "execution_count": 77,
   "id": "0b365c06-fa67-4626-8835-29b6065024fd",
   "metadata": {},
   "outputs": [],
   "source": []
  },
  {
   "cell_type": "markdown",
   "id": "d4ec0660-b111-440a-964d-9f3182e573f4",
   "metadata": {},
   "source": [
    "## 2.3 Deploy on the whole dataset"
   ]
  },
  {
   "cell_type": "code",
   "execution_count": 171,
   "id": "b6caa7d4-9095-44a7-abe3-f19f9803aabc",
   "metadata": {},
   "outputs": [
    {
     "data": {
      "text/html": [
       "<div>\n",
       "<style scoped>\n",
       "    .dataframe tbody tr th:only-of-type {\n",
       "        vertical-align: middle;\n",
       "    }\n",
       "\n",
       "    .dataframe tbody tr th {\n",
       "        vertical-align: top;\n",
       "    }\n",
       "\n",
       "    .dataframe thead th {\n",
       "        text-align: right;\n",
       "    }\n",
       "</style>\n",
       "<table border=\"1\" class=\"dataframe\">\n",
       "  <thead>\n",
       "    <tr style=\"text-align: right;\">\n",
       "      <th></th>\n",
       "      <th>State</th>\n",
       "      <th>City/County</th>\n",
       "      <th>Ordinance</th>\n",
       "      <th>Site</th>\n",
       "      <th>href</th>\n",
       "      <th>unique_id</th>\n",
       "    </tr>\n",
       "  </thead>\n",
       "  <tbody>\n",
       "    <tr>\n",
       "      <th>0</th>\n",
       "      <td>Arkansas</td>\n",
       "      <td>City of Lincoln (Washington County)</td>\n",
       "      <td>https://ecode360.com/LI3811</td>\n",
       "      <td>General Code</td>\n",
       "      <td>LI3811</td>\n",
       "      <td>0</td>\n",
       "    </tr>\n",
       "    <tr>\n",
       "      <th>1</th>\n",
       "      <td>California</td>\n",
       "      <td>City of Albany (Alameda County)</td>\n",
       "      <td>https://ecode360.com/AL4074</td>\n",
       "      <td>General Code</td>\n",
       "      <td>AL4074</td>\n",
       "      <td>1</td>\n",
       "    </tr>\n",
       "  </tbody>\n",
       "</table>\n",
       "</div>"
      ],
      "text/plain": [
       "        State                          City/County  \\\n",
       "0    Arkansas  City of Lincoln (Washington County)   \n",
       "1  California      City of Albany (Alameda County)   \n",
       "\n",
       "                     Ordinance          Site    href  unique_id  \n",
       "0  https://ecode360.com/LI3811  General Code  LI3811          0  \n",
       "1  https://ecode360.com/AL4074  General Code  AL4074          1  "
      ]
     },
     "execution_count": 171,
     "metadata": {},
     "output_type": "execute_result"
    }
   ],
   "source": [
    "all_meta_data = pd.read_csv('../data/ordinates_meta_data.csv', sep = '*')\n",
    "all_meta_data_ecode_360 = all_meta_data.query('Site == \"General Code\"').reset_index(drop = True)\n",
    "all_meta_data_ecode_360['href'] = all_meta_data_ecode_360.Ordinance.apply(lambda x: x.split('/')[-1]).values\n",
    "all_meta_data_ecode_360['unique_id'] = range(all_meta_data_ecode_360.shape[0])\n",
    "# all_meta_data_ecode_360.head(2)\n",
    "meta_data = all_meta_data_ecode_360\n",
    "meta_data.head(2)"
   ]
  },
  {
   "cell_type": "code",
   "execution_count": 172,
   "id": "8ad202a7-6b55-40b6-b2f1-f78f0e2d124f",
   "metadata": {},
   "outputs": [
    {
     "name": "stderr",
     "output_type": "stream",
     "text": [
      "100%|███████████████████████████████| 100/100 [01:39<00:00,  1.01it/s]\n"
     ]
    }
   ],
   "source": [
    "all_doc_results = []\n",
    "for i in tqdm(range(100)):\n",
    "    curr_row = meta_data.iloc[i]\n",
    "    ts = pickle.load(open('../data/scrapped/pickles_ts/' + str(i) + '.pkl', 'rb'))\n",
    "    \n",
    "    all_leaf_doc = ts.find_all_leaf_text()\n",
    "    if len(all_leaf_doc) == 0:\n",
    "        top_three_titles = []\n",
    "    else:\n",
    "        all_leaf_doc = bm25_scores(all_leaf_doc, query)\n",
    "        all_leaf_doc = sorted(all_leaf_doc, key = lambda doc: doc['score'], reverse = True)\n",
    "        top_three_titles = [doc['title'] for doc in all_leaf_doc[:3]]\n",
    "    all_doc_results.append({\n",
    "        'idx': i,\n",
    "        'city': curr_row['City/County'],\n",
    "        'top_three_titles': top_three_titles\n",
    "    })"
   ]
  },
  {
   "cell_type": "code",
   "execution_count": 173,
   "id": "2c7435fe-cbb7-4f51-abff-22acb86d60f6",
   "metadata": {},
   "outputs": [],
   "source": [
    "all_doc_results_df = pd.DataFrame(all_doc_results)"
   ]
  },
  {
   "cell_type": "code",
   "execution_count": 174,
   "id": "62154d56-7eb5-4d6c-a1dc-08739e133d11",
   "metadata": {},
   "outputs": [
    {
     "data": {
      "text/html": [
       "<div>\n",
       "<style scoped>\n",
       "    .dataframe tbody tr th:only-of-type {\n",
       "        vertical-align: middle;\n",
       "    }\n",
       "\n",
       "    .dataframe tbody tr th {\n",
       "        vertical-align: top;\n",
       "    }\n",
       "\n",
       "    .dataframe thead th {\n",
       "        text-align: right;\n",
       "    }\n",
       "</style>\n",
       "<table border=\"1\" class=\"dataframe\">\n",
       "  <thead>\n",
       "    <tr style=\"text-align: right;\">\n",
       "      <th></th>\n",
       "      <th>idx</th>\n",
       "      <th>city</th>\n",
       "      <th>top_three_titles</th>\n",
       "    </tr>\n",
       "  </thead>\n",
       "  <tbody>\n",
       "    <tr>\n",
       "      <th>0</th>\n",
       "      <td>0</td>\n",
       "      <td>City of Lincoln (Washington County)</td>\n",
       "      <td>[DIVISION 4.4      Commercial Mixed-Use Distri...</td>\n",
       "    </tr>\n",
       "    <tr>\n",
       "      <th>1</th>\n",
       "      <td>1</td>\n",
       "      <td>City of Albany (Alameda County)</td>\n",
       "      <td>[Chapter 20      Planning and Zoning, Chapter ...</td>\n",
       "    </tr>\n",
       "    <tr>\n",
       "      <th>2</th>\n",
       "      <td>2</td>\n",
       "      <td>City of Avalon (Los Angeles County)</td>\n",
       "      <td>[Chapter 5-20      Medical Cannabis Delivery S...</td>\n",
       "    </tr>\n",
       "    <tr>\n",
       "      <th>3</th>\n",
       "      <td>3</td>\n",
       "      <td>City of Compton (Los Angeles County)</td>\n",
       "      <td>[Chapter 30      Zoning, Chapter 9      Genera...</td>\n",
       "    </tr>\n",
       "    <tr>\n",
       "      <th>4</th>\n",
       "      <td>4</td>\n",
       "      <td>City of Firebaugh (Fresno County)</td>\n",
       "      <td>[Chapter 25      Zoning, Chapter 4      Licens...</td>\n",
       "    </tr>\n",
       "    <tr>\n",
       "      <th>...</th>\n",
       "      <td>...</td>\n",
       "      <td>...</td>\n",
       "      <td>...</td>\n",
       "    </tr>\n",
       "    <tr>\n",
       "      <th>95</th>\n",
       "      <td>95</td>\n",
       "      <td>Town of Selbyville (Sussex County)</td>\n",
       "      <td>[Article XII      GC General Commercial Distri...</td>\n",
       "    </tr>\n",
       "    <tr>\n",
       "      <th>96</th>\n",
       "      <td>96</td>\n",
       "      <td>Town of South Bethany (Sussex County)</td>\n",
       "      <td>[Article IX      C-1 Commercial District, Arti...</td>\n",
       "    </tr>\n",
       "    <tr>\n",
       "      <th>97</th>\n",
       "      <td>97</td>\n",
       "      <td>Sussex County (Sussex County)</td>\n",
       "      <td>[Article XID      C-4 Planned Commercial Distr...</td>\n",
       "    </tr>\n",
       "    <tr>\n",
       "      <th>98</th>\n",
       "      <td>98</td>\n",
       "      <td>City of South Pasadena (Pinellas County)</td>\n",
       "      <td>[Article III      Zoning Districts, Article I ...</td>\n",
       "    </tr>\n",
       "    <tr>\n",
       "      <th>99</th>\n",
       "      <td>99</td>\n",
       "      <td>Town of Zolfo Springs (Hardee County)</td>\n",
       "      <td>[Article VIII      Classes of Service, Article...</td>\n",
       "    </tr>\n",
       "  </tbody>\n",
       "</table>\n",
       "<p>100 rows × 3 columns</p>\n",
       "</div>"
      ],
      "text/plain": [
       "    idx                                      city  \\\n",
       "0     0       City of Lincoln (Washington County)   \n",
       "1     1           City of Albany (Alameda County)   \n",
       "2     2       City of Avalon (Los Angeles County)   \n",
       "3     3      City of Compton (Los Angeles County)   \n",
       "4     4         City of Firebaugh (Fresno County)   \n",
       "..  ...                                       ...   \n",
       "95   95        Town of Selbyville (Sussex County)   \n",
       "96   96     Town of South Bethany (Sussex County)   \n",
       "97   97             Sussex County (Sussex County)   \n",
       "98   98  City of South Pasadena (Pinellas County)   \n",
       "99   99     Town of Zolfo Springs (Hardee County)   \n",
       "\n",
       "                                     top_three_titles  \n",
       "0   [DIVISION 4.4      Commercial Mixed-Use Distri...  \n",
       "1   [Chapter 20      Planning and Zoning, Chapter ...  \n",
       "2   [Chapter 5-20      Medical Cannabis Delivery S...  \n",
       "3   [Chapter 30      Zoning, Chapter 9      Genera...  \n",
       "4   [Chapter 25      Zoning, Chapter 4      Licens...  \n",
       "..                                                ...  \n",
       "95  [Article XII      GC General Commercial Distri...  \n",
       "96  [Article IX      C-1 Commercial District, Arti...  \n",
       "97  [Article XID      C-4 Planned Commercial Distr...  \n",
       "98  [Article III      Zoning Districts, Article I ...  \n",
       "99  [Article VIII      Classes of Service, Article...  \n",
       "\n",
       "[100 rows x 3 columns]"
      ]
     },
     "execution_count": 174,
     "metadata": {},
     "output_type": "execute_result"
    }
   ],
   "source": [
    "all_doc_results_df"
   ]
  },
  {
   "cell_type": "code",
   "execution_count": 175,
   "id": "de7c460b-5e22-4545-a4d6-e34af0ee9c59",
   "metadata": {},
   "outputs": [
    {
     "data": {
      "text/plain": [
       "['DIVISION 4.4      Commercial Mixed-Use District Regulations',\n",
       " 'DIVISION 4.7      Planned Unit Development (PUD)',\n",
       " 'DIVISION 4.2      Agricultural District Regulations']"
      ]
     },
     "execution_count": 175,
     "metadata": {},
     "output_type": "execute_result"
    }
   ],
   "source": [
    "all_doc_results_df.iloc[0].top_three_titles"
   ]
  },
  {
   "cell_type": "code",
   "execution_count": 176,
   "id": "3b16495a-b720-496a-aca1-7cad3428d130",
   "metadata": {},
   "outputs": [],
   "source": [
    "all_doc_results_df['top_1'] = [t[0] if len(t) > 0 else [] for t in all_doc_results_df.top_three_titles.values]\n",
    "all_doc_results_df['top_2'] = [t[1] if len(t) > 0 else [] for t in all_doc_results_df.top_three_titles.values]\n",
    "all_doc_results_df['top_3'] = [t[2] if len(t) > 0 else [] for t in all_doc_results_df.top_three_titles.values]"
   ]
  },
  {
   "cell_type": "code",
   "execution_count": 177,
   "id": "4d9cecbd-ea05-4d9b-81b8-6332d6d094f0",
   "metadata": {},
   "outputs": [],
   "source": [
    "all_doc_results_df.to_csv('../data/all_doc_results_df.csv', index = False)"
   ]
  },
  {
   "cell_type": "code",
   "execution_count": 166,
   "id": "9d991755-0471-4092-bde9-e0f9800fd21f",
   "metadata": {},
   "outputs": [],
   "source": [
    "# all_leaf_doc"
   ]
  },
  {
   "cell_type": "code",
   "execution_count": 179,
   "id": "87821584-9cd2-4071-acf1-8a3b1d742c7b",
   "metadata": {},
   "outputs": [],
   "source": [
    "all_doc_results_df = pd.read_csv('../data/all_doc_results_df.csv')\n",
    "# all_doc_results_df"
   ]
  },
  {
   "cell_type": "code",
   "execution_count": 180,
   "id": "eb7016c3-de07-4bef-bbd2-4501f0a89b07",
   "metadata": {},
   "outputs": [
    {
     "data": {
      "text/plain": [
       "(31, 6)"
      ]
     },
     "execution_count": 180,
     "metadata": {},
     "output_type": "execute_result"
    }
   ],
   "source": [
    "all_doc_results_df.query('correctness == 1').shape"
   ]
  },
  {
   "cell_type": "code",
   "execution_count": 181,
   "id": "e69de06c-c488-4fd0-8f1c-3f8244455547",
   "metadata": {},
   "outputs": [
    {
     "data": {
      "text/plain": [
       "(23, 6)"
      ]
     },
     "execution_count": 181,
     "metadata": {},
     "output_type": "execute_result"
    }
   ],
   "source": [
    "all_doc_results_df.query('correctness == 2').shape"
   ]
  },
  {
   "cell_type": "code",
   "execution_count": 182,
   "id": "cccf9f89-a13e-40f4-8d92-801d35134682",
   "metadata": {},
   "outputs": [
    {
     "data": {
      "text/plain": [
       "(46, 6)"
      ]
     },
     "execution_count": 182,
     "metadata": {},
     "output_type": "execute_result"
    }
   ],
   "source": [
    "all_doc_results_df.query('correctness == 3').shape"
   ]
  },
  {
   "cell_type": "markdown",
   "id": "bf4ec21b-fa2b-4265-8760-95bdd16b4027",
   "metadata": {},
   "source": [
    "# 3. Spacy"
   ]
  },
  {
   "cell_type": "code",
   "execution_count": 93,
   "id": "3110ad5d-6710-4a5f-aeaf-b1aa2493c3f6",
   "metadata": {},
   "outputs": [],
   "source": [
    "ts = pickle.load(open('../data/scrapped/pickles_ts/1.pkl', 'rb'))"
   ]
  },
  {
   "cell_type": "code",
   "execution_count": 95,
   "id": "da34c7ac-3572-4737-ae5c-c73167df3a3f",
   "metadata": {},
   "outputs": [
    {
     "data": {
      "text/plain": [
       "29"
      ]
     },
     "execution_count": 95,
     "metadata": {},
     "output_type": "execute_result"
    }
   ],
   "source": [
    "all_leaf_doc = []\n",
    "\n",
    "def find_leaf(node):\n",
    "    if node.is_leaf:\n",
    "        all_leaf_doc.append({\n",
    "            'title': node.title,\n",
    "            'text': node.text_content\n",
    "        } )\n",
    "    else:\n",
    "        for child in node.children:\n",
    "            find_leaf(child)\n",
    "\n",
    "find_leaf(ts.root_node)\n",
    "all_leaf_text = \n",
    "len(all_leaf_doc)"
   ]
  },
  {
   "cell_type": "code",
   "execution_count": 97,
   "id": "e21a1e6c-25c3-4584-94a5-911a3c5f5f7a",
   "metadata": {},
   "outputs": [],
   "source": [
    "# all_leaf_doc"
   ]
  },
  {
   "cell_type": "code",
   "execution_count": 92,
   "id": "42aad211-4b53-4ba7-a0ab-96ad716436e3",
   "metadata": {},
   "outputs": [],
   "source": [
    "import spacy\n",
    "nlp = spacy.load(\"en_core_web_sm\")"
   ]
  },
  {
   "cell_type": "code",
   "execution_count": 100,
   "id": "6cc2e0f4-ce91-4b39-8439-106449d6bb58",
   "metadata": {},
   "outputs": [
    {
     "name": "stdout",
     "output_type": "stream",
     "text": [
      "[('This', 'PRON'), ('is', 'AUX'), ('a', 'DET'), ('sentence', 'NOUN'), ('.', 'PUNCT')]\n"
     ]
    }
   ],
   "source": [
    "doc = nlp(\"This is a sentence.\")\n",
    "print([(w.text, w.pos_) for w in doc])"
   ]
  },
  {
   "cell_type": "code",
   "execution_count": 183,
   "id": "4f2f3670-7e2f-4ab2-9957-39aa7be28ae3",
   "metadata": {},
   "outputs": [],
   "source": [
    "context = '''\n",
    "Four zoning districts are provided for residential development. Of these, three districts are provided for single family residential development, while one district is provided for both single and multiple family residential developments.\n",
    "   The single family districts provide for a limited range of housing densities consistent with the Village's established residential neighborhoods. The R-A District allows for lower density residential use and larger lot sizes. The R-B and R-C Districts allow for somewhat higher density residential use and smaller lot sizes.\n",
    "   The R-D District permits single family residential developments and permits as a special use higher density residentialbuilding types consistent with existing development patterns. (Amended 6/2003)\n",
    "   The single family district regulations are intended to preserve established neighborhoods and encourage new residential development consistent with the overall character of the Village. The multiple family district regulations are designed to encourage a moderate density residential area including alternate housing types in a suburban residential environment.\n",
    "'''"
   ]
  },
  {
   "cell_type": "code",
   "execution_count": 184,
   "id": "6e03e922-a1aa-4bdf-877c-980d6561dac2",
   "metadata": {},
   "outputs": [
    {
     "name": "stdout",
     "output_type": "stream",
     "text": [
      "[('\\n', 'SPACE'), ('Four', 'NUM'), ('zoning', 'VERB'), ('districts', 'NOUN'), ('are', 'AUX'), ('provided', 'VERB'), ('for', 'ADP'), ('residential', 'ADJ'), ('development', 'NOUN'), ('.', 'PUNCT'), ('Of', 'ADP'), ('these', 'PRON'), (',', 'PUNCT'), ('three', 'NUM'), ('districts', 'NOUN'), ('are', 'AUX'), ('provided', 'VERB'), ('for', 'ADP'), ('single', 'ADJ'), ('family', 'NOUN'), ('residential', 'ADJ'), ('development', 'NOUN'), (',', 'PUNCT'), ('while', 'SCONJ'), ('one', 'NUM'), ('district', 'NOUN'), ('is', 'AUX'), ('provided', 'VERB'), ('for', 'ADP'), ('both', 'CCONJ'), ('single', 'ADJ'), ('and', 'CCONJ'), ('multiple', 'ADJ'), ('family', 'NOUN'), ('residential', 'ADJ'), ('developments', 'NOUN'), ('.', 'PUNCT'), ('\\n   ', 'SPACE'), ('The', 'DET'), ('single', 'ADJ'), ('family', 'NOUN'), ('districts', 'NOUN'), ('provide', 'VERB'), ('for', 'ADP'), ('a', 'DET'), ('limited', 'ADJ'), ('range', 'NOUN'), ('of', 'ADP'), ('housing', 'NOUN'), ('densities', 'NOUN'), ('consistent', 'ADJ'), ('with', 'ADP'), ('the', 'DET'), ('Village', 'PROPN'), (\"'s\", 'PART'), ('established', 'VERB'), ('residential', 'ADJ'), ('neighborhoods', 'NOUN'), ('.', 'PUNCT'), ('The', 'DET'), ('R', 'PROPN'), ('-', 'PUNCT'), ('A', 'PROPN'), ('District', 'PROPN'), ('allows', 'VERB'), ('for', 'ADP'), ('lower', 'ADJ'), ('density', 'NOUN'), ('residential', 'ADJ'), ('use', 'NOUN'), ('and', 'CCONJ'), ('larger', 'ADJ'), ('lot', 'NOUN'), ('sizes', 'NOUN'), ('.', 'PUNCT'), ('The', 'DET'), ('R', 'NOUN'), ('-', 'PUNCT'), ('B', 'NOUN'), ('and', 'CCONJ'), ('R', 'NOUN'), ('-', 'PUNCT'), ('C', 'NOUN'), ('Districts', 'NOUN'), ('allow', 'VERB'), ('for', 'ADP'), ('somewhat', 'ADV'), ('higher', 'ADJ'), ('density', 'NOUN'), ('residential', 'ADJ'), ('use', 'NOUN'), ('and', 'CCONJ'), ('smaller', 'ADJ'), ('lot', 'NOUN'), ('sizes', 'NOUN'), ('.', 'PUNCT'), ('\\n   ', 'SPACE'), ('The', 'DET'), ('R', 'NOUN'), ('-', 'PUNCT'), ('D', 'PROPN'), ('District', 'NOUN'), ('permits', 'VERB'), ('single', 'ADJ'), ('family', 'NOUN'), ('residential', 'ADJ'), ('developments', 'NOUN'), ('and', 'CCONJ'), ('permits', 'NOUN'), ('as', 'ADP'), ('a', 'DET'), ('special', 'ADJ'), ('use', 'NOUN'), ('higher', 'ADJ'), ('density', 'NOUN'), ('residentialbuilding', 'VERB'), ('types', 'NOUN'), ('consistent', 'ADJ'), ('with', 'ADP'), ('existing', 'VERB'), ('development', 'NOUN'), ('patterns', 'NOUN'), ('.', 'PUNCT'), ('(', 'PUNCT'), ('Amended', 'PROPN'), ('6/2003', 'NUM'), (')', 'PUNCT'), ('\\n   ', 'SPACE'), ('The', 'DET'), ('single', 'ADJ'), ('family', 'NOUN'), ('district', 'NOUN'), ('regulations', 'NOUN'), ('are', 'AUX'), ('intended', 'VERB'), ('to', 'PART'), ('preserve', 'VERB'), ('established', 'VERB'), ('neighborhoods', 'NOUN'), ('and', 'CCONJ'), ('encourage', 'VERB'), ('new', 'ADJ'), ('residential', 'ADJ'), ('development', 'NOUN'), ('consistent', 'ADJ'), ('with', 'ADP'), ('the', 'DET'), ('overall', 'ADJ'), ('character', 'NOUN'), ('of', 'ADP'), ('the', 'DET'), ('Village', 'PROPN'), ('.', 'PUNCT'), ('The', 'DET'), ('multiple', 'ADJ'), ('family', 'NOUN'), ('district', 'NOUN'), ('regulations', 'NOUN'), ('are', 'AUX'), ('designed', 'VERB'), ('to', 'PART'), ('encourage', 'VERB'), ('a', 'DET'), ('moderate', 'ADJ'), ('density', 'NOUN'), ('residential', 'ADJ'), ('area', 'NOUN'), ('including', 'VERB'), ('alternate', 'ADJ'), ('housing', 'NOUN'), ('types', 'NOUN'), ('in', 'ADP'), ('a', 'DET'), ('suburban', 'ADJ'), ('residential', 'ADJ'), ('environment', 'NOUN'), ('.', 'PUNCT'), ('\\n', 'SPACE')]\n"
     ]
    }
   ],
   "source": [
    "doc = nlp(context)\n",
    "print([(w.text, w.pos_) for w in doc])"
   ]
  },
  {
   "cell_type": "code",
   "execution_count": null,
   "id": "a92b784b-bd1f-4434-b0e3-8a9c846c5fd0",
   "metadata": {},
   "outputs": [],
   "source": []
  }
 ],
 "metadata": {
  "kernelspec": {
   "display_name": "Python 3 (ipykernel)",
   "language": "python",
   "name": "python3"
  },
  "language_info": {
   "codemirror_mode": {
    "name": "ipython",
    "version": 3
   },
   "file_extension": ".py",
   "mimetype": "text/x-python",
   "name": "python",
   "nbconvert_exporter": "python",
   "pygments_lexer": "ipython3",
   "version": "3.8.2"
  }
 },
 "nbformat": 4,
 "nbformat_minor": 5
}
